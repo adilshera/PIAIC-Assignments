{
 "cells": [
  {
   "cell_type": "markdown",
   "metadata": {},
   "source": [
    "# Assignment: Compresive Strength Concrete Problem\n",
    "\n",
    "\n",
    "### Abstract: \n",
    "\n",
    "Concrete is the most important material in civil engineering. The concrete compressive strength (concrete strength to bear the load) is a highly nonlinear function of age and ingredients.  <br><br>\n",
    "\n",
    "<table border=\"1\"  cellpadding=\"6\" bordercolor=\"red\">\n",
    "\t<tbody>\n",
    "        <tr>\n",
    "\t\t<td bgcolor=\"#DDEEFF\"><p class=\"normal\"><b>Data Set Characteristics:&nbsp;&nbsp;</b></p></td>\n",
    "\t\t<td><p class=\"normal\">Multivariate</p></td>\n",
    "\t\t<td bgcolor=\"#DDEEFF\"><p class=\"normal\"><b>Number of Instances:</b></p></td>\n",
    "\t\t<td><p class=\"normal\">1030</p></td>\n",
    "\t\t<td bgcolor=\"#DDEEFF\"><p class=\"normal\"><b>Area:</b></p></td>\n",
    "\t\t<td><p class=\"normal\">Physical</p></td>\n",
    "        </tr>\n",
    "     </tbody>\n",
    "    </table>\n",
    "<table border=\"1\" cellpadding=\"6\">\n",
    "    <tbody>\n",
    "        <tr>\n",
    "            <td bgcolor=\"#DDEEFF\"><p class=\"normal\"><b>Attribute Characteristics:</b></p></td>\n",
    "            <td><p class=\"normal\">Real</p></td>\n",
    "            <td bgcolor=\"#DDEEFF\"><p class=\"normal\"><b>Number of Attributes:</b></p></td>\n",
    "            <td><p class=\"normal\">9</p></td>\n",
    "            <td bgcolor=\"#DDEEFF\"><p class=\"normal\"><b>Date Donated</b></p></td>\n",
    "            <td><p class=\"normal\">2007-08-03</p></td>\n",
    "        </tr>\n",
    "     </tbody>\n",
    "    </table>\n",
    "<table border=\"1\" cellpadding=\"6\">\t\n",
    "    <tbody>\n",
    "    <tr>\n",
    "\t\t<td bgcolor=\"#DDEEFF\"><p class=\"normal\"><b>Associated Tasks:</b></p></td>\n",
    "\t\t<td><p class=\"normal\">Regression</p></td>\n",
    "\t\t<td bgcolor=\"#DDEEFF\"><p class=\"normal\"><b>Missing Values?</b></p></td>\n",
    "\t\t<td><p class=\"normal\">N/A</p></td>\n",
    "\t\t<td bgcolor=\"#DDEEFF\"><p class=\"normal\"><b>Number of Web Hits:</b></p></td>\n",
    "\t\t<td><p class=\"normal\">231464</p></td>\n",
    "\t</tr>\n",
    "    </tbody>\n",
    "    </table>"
   ]
  },
  {
   "cell_type": "markdown",
   "metadata": {},
   "source": [
    "###  Description:\n",
    "| Features Name | Data Type | Measurement | Description |\n",
    "| -- | -- | -- | -- |\n",
    "Cement (component 1) | quantitative | kg in a m3 mixture | Input Variable\n",
    "Blast Furnace Slag (component 2) | quantitative | kg in a m3 mixture | Input Variable\n",
    "Fly Ash (component 3) | quantitative | kg in a m3 mixture | Input Variable\n",
    "Water (component 4) | quantitative | kg in a m3 mixture | Input Variable\n",
    "Superplasticizer (component 5) | quantitative | kg in a m3 mixture | Input Variable\n",
    "Coarse Aggregate (component 6) | quantitative | kg in a m3 mixture | Input Variable\n",
    "Fine Aggregate (component 7) | quantitative | kg in a m3 mixture | Input Variable\n",
    "Age | quantitative | Day (1~365) | Input Variable\n",
    "Concrete compressive strength | quantitative | MPa | Output Variable\n",
    "\n",
    "### WORKFLOW :\n",
    "- Load Data\n",
    "- Check Missing Values ( If Exist ; Fill each record with mean of its feature )\n",
    "- Standardized the Input Variables. **Hint**: Centeralized the data\n",
    "- Split into 50% Training(Samples,Labels) , 30% Test(Samples,Labels) and 20% Validation Data(Samples,Labels).\n",
    "- Model : input Layer (No. of features ), 3 hidden layers including 10,8,6 unit & Output Layer with activation function relu/tanh (check by experiment).\n",
    "- Compilation Step (Note : Its a Regression problem , select loss , metrics according to it)\n",
    "- Train the Model with Epochs (100) and validate it\n",
    "- If the model gets overfit tune your model by changing the units , No. of layers , activation function , epochs , add dropout layer or add Regularizer according to the need .\n",
    "- Evaluation Step\n",
    "- Prediction\n"
   ]
  },
  {
   "cell_type": "markdown",
   "metadata": {},
   "source": [
    "# Load Data:\n",
    "[Click Here to Download DataSet](https://github.com/ramsha275/ML_Datasets/blob/main/compresive_strength_concrete.csv)"
   ]
  },
  {
   "cell_type": "code",
   "execution_count": 1,
   "metadata": {},
   "outputs": [],
   "source": [
    "import pandas as pd\n",
    "import numpy as np\n",
    "import matplotlib.pyplot as plt\n",
    "%matplotlib inline\n",
    "\n",
    "from tensorflow.keras import models\n",
    "from tensorflow.keras import layers"
   ]
  },
  {
   "cell_type": "code",
   "execution_count": 2,
   "metadata": {},
   "outputs": [],
   "source": [
    "concrete_data = pd.read_csv('compresive_strength_concrete.csv')"
   ]
  },
  {
   "cell_type": "code",
   "execution_count": 3,
   "metadata": {},
   "outputs": [
    {
     "data": {
      "text/html": [
       "<div>\n",
       "<style scoped>\n",
       "    .dataframe tbody tr th:only-of-type {\n",
       "        vertical-align: middle;\n",
       "    }\n",
       "\n",
       "    .dataframe tbody tr th {\n",
       "        vertical-align: top;\n",
       "    }\n",
       "\n",
       "    .dataframe thead th {\n",
       "        text-align: right;\n",
       "    }\n",
       "</style>\n",
       "<table border=\"1\" class=\"dataframe\">\n",
       "  <thead>\n",
       "    <tr style=\"text-align: right;\">\n",
       "      <th></th>\n",
       "      <th>Cement (component 1)(kg in a m^3 mixture)</th>\n",
       "      <th>Blast Furnace Slag (component 2)(kg in a m^3 mixture)</th>\n",
       "      <th>Fly Ash (component 3)(kg in a m^3 mixture)</th>\n",
       "      <th>Water  (component 4)(kg in a m^3 mixture)</th>\n",
       "      <th>Superplasticizer (component 5)(kg in a m^3 mixture)</th>\n",
       "      <th>Coarse Aggregate  (component 6)(kg in a m^3 mixture)</th>\n",
       "      <th>Fine Aggregate (component 7)(kg in a m^3 mixture)</th>\n",
       "      <th>Age (day)</th>\n",
       "      <th>Concrete compressive strength(MPa, megapascals)</th>\n",
       "    </tr>\n",
       "  </thead>\n",
       "  <tbody>\n",
       "    <tr>\n",
       "      <th>0</th>\n",
       "      <td>540.0</td>\n",
       "      <td>0.0</td>\n",
       "      <td>0.0</td>\n",
       "      <td>162.0</td>\n",
       "      <td>2.5</td>\n",
       "      <td>1040.0</td>\n",
       "      <td>676.0</td>\n",
       "      <td>28</td>\n",
       "      <td>79.99</td>\n",
       "    </tr>\n",
       "    <tr>\n",
       "      <th>1</th>\n",
       "      <td>540.0</td>\n",
       "      <td>0.0</td>\n",
       "      <td>0.0</td>\n",
       "      <td>162.0</td>\n",
       "      <td>2.5</td>\n",
       "      <td>1055.0</td>\n",
       "      <td>676.0</td>\n",
       "      <td>28</td>\n",
       "      <td>61.89</td>\n",
       "    </tr>\n",
       "    <tr>\n",
       "      <th>2</th>\n",
       "      <td>332.5</td>\n",
       "      <td>142.5</td>\n",
       "      <td>0.0</td>\n",
       "      <td>228.0</td>\n",
       "      <td>0.0</td>\n",
       "      <td>932.0</td>\n",
       "      <td>594.0</td>\n",
       "      <td>270</td>\n",
       "      <td>40.27</td>\n",
       "    </tr>\n",
       "    <tr>\n",
       "      <th>3</th>\n",
       "      <td>332.5</td>\n",
       "      <td>142.5</td>\n",
       "      <td>0.0</td>\n",
       "      <td>228.0</td>\n",
       "      <td>0.0</td>\n",
       "      <td>932.0</td>\n",
       "      <td>594.0</td>\n",
       "      <td>365</td>\n",
       "      <td>41.05</td>\n",
       "    </tr>\n",
       "    <tr>\n",
       "      <th>4</th>\n",
       "      <td>198.6</td>\n",
       "      <td>132.4</td>\n",
       "      <td>0.0</td>\n",
       "      <td>192.0</td>\n",
       "      <td>0.0</td>\n",
       "      <td>978.4</td>\n",
       "      <td>825.5</td>\n",
       "      <td>360</td>\n",
       "      <td>44.30</td>\n",
       "    </tr>\n",
       "  </tbody>\n",
       "</table>\n",
       "</div>"
      ],
      "text/plain": [
       "   Cement (component 1)(kg in a m^3 mixture)  \\\n",
       "0                                      540.0   \n",
       "1                                      540.0   \n",
       "2                                      332.5   \n",
       "3                                      332.5   \n",
       "4                                      198.6   \n",
       "\n",
       "   Blast Furnace Slag (component 2)(kg in a m^3 mixture)  \\\n",
       "0                                                0.0       \n",
       "1                                                0.0       \n",
       "2                                              142.5       \n",
       "3                                              142.5       \n",
       "4                                              132.4       \n",
       "\n",
       "   Fly Ash (component 3)(kg in a m^3 mixture)  \\\n",
       "0                                         0.0   \n",
       "1                                         0.0   \n",
       "2                                         0.0   \n",
       "3                                         0.0   \n",
       "4                                         0.0   \n",
       "\n",
       "   Water  (component 4)(kg in a m^3 mixture)  \\\n",
       "0                                      162.0   \n",
       "1                                      162.0   \n",
       "2                                      228.0   \n",
       "3                                      228.0   \n",
       "4                                      192.0   \n",
       "\n",
       "   Superplasticizer (component 5)(kg in a m^3 mixture)  \\\n",
       "0                                                2.5     \n",
       "1                                                2.5     \n",
       "2                                                0.0     \n",
       "3                                                0.0     \n",
       "4                                                0.0     \n",
       "\n",
       "   Coarse Aggregate  (component 6)(kg in a m^3 mixture)  \\\n",
       "0                                             1040.0      \n",
       "1                                             1055.0      \n",
       "2                                              932.0      \n",
       "3                                              932.0      \n",
       "4                                              978.4      \n",
       "\n",
       "   Fine Aggregate (component 7)(kg in a m^3 mixture)  Age (day)  \\\n",
       "0                                              676.0         28   \n",
       "1                                              676.0         28   \n",
       "2                                              594.0        270   \n",
       "3                                              594.0        365   \n",
       "4                                              825.5        360   \n",
       "\n",
       "   Concrete compressive strength(MPa, megapascals)   \n",
       "0                                             79.99  \n",
       "1                                             61.89  \n",
       "2                                             40.27  \n",
       "3                                             41.05  \n",
       "4                                             44.30  "
      ]
     },
     "execution_count": 3,
     "metadata": {},
     "output_type": "execute_result"
    }
   ],
   "source": [
    "concrete_data.head()"
   ]
  },
  {
   "cell_type": "markdown",
   "metadata": {},
   "source": [
    "<b> Streamlining column names "
   ]
  },
  {
   "cell_type": "code",
   "execution_count": 4,
   "metadata": {},
   "outputs": [],
   "source": [
    "req_col_names = [\"Cement\", \"BlastFurnaceSlag\", \"FlyAsh\", \"Water\", \"Superplasticizer\",\n",
    "                 \"CoarseAggregate\", \"FineAggregate\", \"Age\", \"CC_Strength\"]\n",
    "curr_col_names = list(concrete_data.columns)\n",
    "curr_col_names\n",
    "mapper = {}\n",
    "for i,name in enumerate(curr_col_names):\n",
    "    mapper[name] = req_col_names[i]\n",
    "  \n",
    "    \n",
    "concrete_data = concrete_data.rename(columns = mapper)\n"
   ]
  },
  {
   "cell_type": "code",
   "execution_count": 5,
   "metadata": {},
   "outputs": [
    {
     "data": {
      "text/html": [
       "<div>\n",
       "<style scoped>\n",
       "    .dataframe tbody tr th:only-of-type {\n",
       "        vertical-align: middle;\n",
       "    }\n",
       "\n",
       "    .dataframe tbody tr th {\n",
       "        vertical-align: top;\n",
       "    }\n",
       "\n",
       "    .dataframe thead th {\n",
       "        text-align: right;\n",
       "    }\n",
       "</style>\n",
       "<table border=\"1\" class=\"dataframe\">\n",
       "  <thead>\n",
       "    <tr style=\"text-align: right;\">\n",
       "      <th></th>\n",
       "      <th>Cement</th>\n",
       "      <th>BlastFurnaceSlag</th>\n",
       "      <th>FlyAsh</th>\n",
       "      <th>Water</th>\n",
       "      <th>Superplasticizer</th>\n",
       "      <th>CoarseAggregate</th>\n",
       "      <th>FineAggregate</th>\n",
       "      <th>Age</th>\n",
       "      <th>CC_Strength</th>\n",
       "    </tr>\n",
       "  </thead>\n",
       "  <tbody>\n",
       "    <tr>\n",
       "      <th>0</th>\n",
       "      <td>540.0</td>\n",
       "      <td>0.0</td>\n",
       "      <td>0.0</td>\n",
       "      <td>162.0</td>\n",
       "      <td>2.5</td>\n",
       "      <td>1040.0</td>\n",
       "      <td>676.0</td>\n",
       "      <td>28</td>\n",
       "      <td>79.99</td>\n",
       "    </tr>\n",
       "    <tr>\n",
       "      <th>1</th>\n",
       "      <td>540.0</td>\n",
       "      <td>0.0</td>\n",
       "      <td>0.0</td>\n",
       "      <td>162.0</td>\n",
       "      <td>2.5</td>\n",
       "      <td>1055.0</td>\n",
       "      <td>676.0</td>\n",
       "      <td>28</td>\n",
       "      <td>61.89</td>\n",
       "    </tr>\n",
       "    <tr>\n",
       "      <th>2</th>\n",
       "      <td>332.5</td>\n",
       "      <td>142.5</td>\n",
       "      <td>0.0</td>\n",
       "      <td>228.0</td>\n",
       "      <td>0.0</td>\n",
       "      <td>932.0</td>\n",
       "      <td>594.0</td>\n",
       "      <td>270</td>\n",
       "      <td>40.27</td>\n",
       "    </tr>\n",
       "    <tr>\n",
       "      <th>3</th>\n",
       "      <td>332.5</td>\n",
       "      <td>142.5</td>\n",
       "      <td>0.0</td>\n",
       "      <td>228.0</td>\n",
       "      <td>0.0</td>\n",
       "      <td>932.0</td>\n",
       "      <td>594.0</td>\n",
       "      <td>365</td>\n",
       "      <td>41.05</td>\n",
       "    </tr>\n",
       "    <tr>\n",
       "      <th>4</th>\n",
       "      <td>198.6</td>\n",
       "      <td>132.4</td>\n",
       "      <td>0.0</td>\n",
       "      <td>192.0</td>\n",
       "      <td>0.0</td>\n",
       "      <td>978.4</td>\n",
       "      <td>825.5</td>\n",
       "      <td>360</td>\n",
       "      <td>44.30</td>\n",
       "    </tr>\n",
       "  </tbody>\n",
       "</table>\n",
       "</div>"
      ],
      "text/plain": [
       "   Cement  BlastFurnaceSlag  FlyAsh  Water  Superplasticizer  CoarseAggregate  \\\n",
       "0   540.0               0.0     0.0  162.0               2.5           1040.0   \n",
       "1   540.0               0.0     0.0  162.0               2.5           1055.0   \n",
       "2   332.5             142.5     0.0  228.0               0.0            932.0   \n",
       "3   332.5             142.5     0.0  228.0               0.0            932.0   \n",
       "4   198.6             132.4     0.0  192.0               0.0            978.4   \n",
       "\n",
       "   FineAggregate  Age  CC_Strength  \n",
       "0          676.0   28        79.99  \n",
       "1          676.0   28        61.89  \n",
       "2          594.0  270        40.27  \n",
       "3          594.0  365        41.05  \n",
       "4          825.5  360        44.30  "
      ]
     },
     "execution_count": 5,
     "metadata": {},
     "output_type": "execute_result"
    }
   ],
   "source": [
    "concrete_data.head()"
   ]
  },
  {
   "cell_type": "code",
   "execution_count": 6,
   "metadata": {},
   "outputs": [
    {
     "data": {
      "text/plain": [
       "Cement              0\n",
       "BlastFurnaceSlag    0\n",
       "FlyAsh              0\n",
       "Water               0\n",
       "Superplasticizer    0\n",
       "CoarseAggregate     0\n",
       "FineAggregate       0\n",
       "Age                 0\n",
       "CC_Strength         0\n",
       "dtype: int64"
      ]
     },
     "execution_count": 6,
     "metadata": {},
     "output_type": "execute_result"
    }
   ],
   "source": [
    "concrete_data.isna().sum()"
   ]
  },
  {
   "cell_type": "code",
   "execution_count": 7,
   "metadata": {},
   "outputs": [
    {
     "data": {
      "text/html": [
       "<div>\n",
       "<style scoped>\n",
       "    .dataframe tbody tr th:only-of-type {\n",
       "        vertical-align: middle;\n",
       "    }\n",
       "\n",
       "    .dataframe tbody tr th {\n",
       "        vertical-align: top;\n",
       "    }\n",
       "\n",
       "    .dataframe thead th {\n",
       "        text-align: right;\n",
       "    }\n",
       "</style>\n",
       "<table border=\"1\" class=\"dataframe\">\n",
       "  <thead>\n",
       "    <tr style=\"text-align: right;\">\n",
       "      <th></th>\n",
       "      <th>Cement</th>\n",
       "      <th>BlastFurnaceSlag</th>\n",
       "      <th>FlyAsh</th>\n",
       "      <th>Water</th>\n",
       "      <th>Superplasticizer</th>\n",
       "      <th>CoarseAggregate</th>\n",
       "      <th>FineAggregate</th>\n",
       "      <th>Age</th>\n",
       "      <th>CC_Strength</th>\n",
       "    </tr>\n",
       "  </thead>\n",
       "  <tbody>\n",
       "    <tr>\n",
       "      <th>count</th>\n",
       "      <td>1030.000000</td>\n",
       "      <td>1030.000000</td>\n",
       "      <td>1030.000000</td>\n",
       "      <td>1030.000000</td>\n",
       "      <td>1030.000000</td>\n",
       "      <td>1030.000000</td>\n",
       "      <td>1030.000000</td>\n",
       "      <td>1030.000000</td>\n",
       "      <td>1030.000000</td>\n",
       "    </tr>\n",
       "    <tr>\n",
       "      <th>mean</th>\n",
       "      <td>281.167864</td>\n",
       "      <td>73.895825</td>\n",
       "      <td>54.188350</td>\n",
       "      <td>181.567282</td>\n",
       "      <td>6.204660</td>\n",
       "      <td>972.918932</td>\n",
       "      <td>773.580485</td>\n",
       "      <td>45.662136</td>\n",
       "      <td>35.817961</td>\n",
       "    </tr>\n",
       "    <tr>\n",
       "      <th>std</th>\n",
       "      <td>104.506364</td>\n",
       "      <td>86.279342</td>\n",
       "      <td>63.997004</td>\n",
       "      <td>21.354219</td>\n",
       "      <td>5.973841</td>\n",
       "      <td>77.753954</td>\n",
       "      <td>80.175980</td>\n",
       "      <td>63.169912</td>\n",
       "      <td>16.705742</td>\n",
       "    </tr>\n",
       "    <tr>\n",
       "      <th>min</th>\n",
       "      <td>102.000000</td>\n",
       "      <td>0.000000</td>\n",
       "      <td>0.000000</td>\n",
       "      <td>121.800000</td>\n",
       "      <td>0.000000</td>\n",
       "      <td>801.000000</td>\n",
       "      <td>594.000000</td>\n",
       "      <td>1.000000</td>\n",
       "      <td>2.330000</td>\n",
       "    </tr>\n",
       "    <tr>\n",
       "      <th>25%</th>\n",
       "      <td>192.375000</td>\n",
       "      <td>0.000000</td>\n",
       "      <td>0.000000</td>\n",
       "      <td>164.900000</td>\n",
       "      <td>0.000000</td>\n",
       "      <td>932.000000</td>\n",
       "      <td>730.950000</td>\n",
       "      <td>7.000000</td>\n",
       "      <td>23.710000</td>\n",
       "    </tr>\n",
       "    <tr>\n",
       "      <th>50%</th>\n",
       "      <td>272.900000</td>\n",
       "      <td>22.000000</td>\n",
       "      <td>0.000000</td>\n",
       "      <td>185.000000</td>\n",
       "      <td>6.400000</td>\n",
       "      <td>968.000000</td>\n",
       "      <td>779.500000</td>\n",
       "      <td>28.000000</td>\n",
       "      <td>34.445000</td>\n",
       "    </tr>\n",
       "    <tr>\n",
       "      <th>75%</th>\n",
       "      <td>350.000000</td>\n",
       "      <td>142.950000</td>\n",
       "      <td>118.300000</td>\n",
       "      <td>192.000000</td>\n",
       "      <td>10.200000</td>\n",
       "      <td>1029.400000</td>\n",
       "      <td>824.000000</td>\n",
       "      <td>56.000000</td>\n",
       "      <td>46.135000</td>\n",
       "    </tr>\n",
       "    <tr>\n",
       "      <th>max</th>\n",
       "      <td>540.000000</td>\n",
       "      <td>359.400000</td>\n",
       "      <td>200.100000</td>\n",
       "      <td>247.000000</td>\n",
       "      <td>32.200000</td>\n",
       "      <td>1145.000000</td>\n",
       "      <td>992.600000</td>\n",
       "      <td>365.000000</td>\n",
       "      <td>82.600000</td>\n",
       "    </tr>\n",
       "  </tbody>\n",
       "</table>\n",
       "</div>"
      ],
      "text/plain": [
       "            Cement  BlastFurnaceSlag       FlyAsh        Water  \\\n",
       "count  1030.000000       1030.000000  1030.000000  1030.000000   \n",
       "mean    281.167864         73.895825    54.188350   181.567282   \n",
       "std     104.506364         86.279342    63.997004    21.354219   \n",
       "min     102.000000          0.000000     0.000000   121.800000   \n",
       "25%     192.375000          0.000000     0.000000   164.900000   \n",
       "50%     272.900000         22.000000     0.000000   185.000000   \n",
       "75%     350.000000        142.950000   118.300000   192.000000   \n",
       "max     540.000000        359.400000   200.100000   247.000000   \n",
       "\n",
       "       Superplasticizer  CoarseAggregate  FineAggregate          Age  \\\n",
       "count       1030.000000      1030.000000    1030.000000  1030.000000   \n",
       "mean           6.204660       972.918932     773.580485    45.662136   \n",
       "std            5.973841        77.753954      80.175980    63.169912   \n",
       "min            0.000000       801.000000     594.000000     1.000000   \n",
       "25%            0.000000       932.000000     730.950000     7.000000   \n",
       "50%            6.400000       968.000000     779.500000    28.000000   \n",
       "75%           10.200000      1029.400000     824.000000    56.000000   \n",
       "max           32.200000      1145.000000     992.600000   365.000000   \n",
       "\n",
       "       CC_Strength  \n",
       "count  1030.000000  \n",
       "mean     35.817961  \n",
       "std      16.705742  \n",
       "min       2.330000  \n",
       "25%      23.710000  \n",
       "50%      34.445000  \n",
       "75%      46.135000  \n",
       "max      82.600000  "
      ]
     },
     "execution_count": 7,
     "metadata": {},
     "output_type": "execute_result"
    }
   ],
   "source": [
    "concrete_data.describe()"
   ]
  },
  {
   "cell_type": "markdown",
   "metadata": {},
   "source": [
    "##### Checking the pairwise relations of Features."
   ]
  },
  {
   "cell_type": "code",
   "execution_count": 8,
   "metadata": {},
   "outputs": [
    {
     "data": {
      "text/plain": [
       "Index(['Cement', 'BlastFurnaceSlag', 'FlyAsh', 'Water', 'Superplasticizer',\n",
       "       'CoarseAggregate', 'FineAggregate', 'Age', 'CC_Strength'],\n",
       "      dtype='object')"
      ]
     },
     "execution_count": 8,
     "metadata": {},
     "output_type": "execute_result"
    }
   ],
   "source": [
    "concrete_data.columns"
   ]
  },
  {
   "cell_type": "markdown",
   "metadata": {},
   "source": [
    "# Data Preprocessing"
   ]
  },
  {
   "cell_type": "code",
   "execution_count": 9,
   "metadata": {},
   "outputs": [
    {
     "name": "stdout",
     "output_type": "stream",
     "text": [
      "35.81796116504851\n",
      "16.705741961912505\n"
     ]
    }
   ],
   "source": [
    "mean_label = concrete_data.iloc[:,-1].mean()\n",
    "std_label = concrete_data.iloc[:,-1].std()\n",
    "print(mean_label)\n",
    "print(std_label)"
   ]
  },
  {
   "cell_type": "code",
   "execution_count": 10,
   "metadata": {},
   "outputs": [
    {
     "data": {
      "text/html": [
       "<div>\n",
       "<style scoped>\n",
       "    .dataframe tbody tr th:only-of-type {\n",
       "        vertical-align: middle;\n",
       "    }\n",
       "\n",
       "    .dataframe tbody tr th {\n",
       "        vertical-align: top;\n",
       "    }\n",
       "\n",
       "    .dataframe thead th {\n",
       "        text-align: right;\n",
       "    }\n",
       "</style>\n",
       "<table border=\"1\" class=\"dataframe\">\n",
       "  <thead>\n",
       "    <tr style=\"text-align: right;\">\n",
       "      <th></th>\n",
       "      <th>Cement</th>\n",
       "      <th>BlastFurnaceSlag</th>\n",
       "      <th>FlyAsh</th>\n",
       "      <th>Water</th>\n",
       "      <th>Superplasticizer</th>\n",
       "      <th>CoarseAggregate</th>\n",
       "      <th>FineAggregate</th>\n",
       "      <th>Age</th>\n",
       "      <th>CC_Strength</th>\n",
       "    </tr>\n",
       "  </thead>\n",
       "  <tbody>\n",
       "    <tr>\n",
       "      <th>0</th>\n",
       "      <td>1.000000</td>\n",
       "      <td>0.000000</td>\n",
       "      <td>0.0</td>\n",
       "      <td>0.321086</td>\n",
       "      <td>0.07764</td>\n",
       "      <td>0.694767</td>\n",
       "      <td>0.205720</td>\n",
       "      <td>0.074176</td>\n",
       "      <td>0.967485</td>\n",
       "    </tr>\n",
       "    <tr>\n",
       "      <th>1</th>\n",
       "      <td>1.000000</td>\n",
       "      <td>0.000000</td>\n",
       "      <td>0.0</td>\n",
       "      <td>0.321086</td>\n",
       "      <td>0.07764</td>\n",
       "      <td>0.738372</td>\n",
       "      <td>0.205720</td>\n",
       "      <td>0.074176</td>\n",
       "      <td>0.741996</td>\n",
       "    </tr>\n",
       "    <tr>\n",
       "      <th>2</th>\n",
       "      <td>0.526256</td>\n",
       "      <td>0.396494</td>\n",
       "      <td>0.0</td>\n",
       "      <td>0.848243</td>\n",
       "      <td>0.00000</td>\n",
       "      <td>0.380814</td>\n",
       "      <td>0.000000</td>\n",
       "      <td>0.739011</td>\n",
       "      <td>0.472655</td>\n",
       "    </tr>\n",
       "    <tr>\n",
       "      <th>3</th>\n",
       "      <td>0.526256</td>\n",
       "      <td>0.396494</td>\n",
       "      <td>0.0</td>\n",
       "      <td>0.848243</td>\n",
       "      <td>0.00000</td>\n",
       "      <td>0.380814</td>\n",
       "      <td>0.000000</td>\n",
       "      <td>1.000000</td>\n",
       "      <td>0.482372</td>\n",
       "    </tr>\n",
       "    <tr>\n",
       "      <th>4</th>\n",
       "      <td>0.220548</td>\n",
       "      <td>0.368392</td>\n",
       "      <td>0.0</td>\n",
       "      <td>0.560703</td>\n",
       "      <td>0.00000</td>\n",
       "      <td>0.515698</td>\n",
       "      <td>0.580783</td>\n",
       "      <td>0.986264</td>\n",
       "      <td>0.522860</td>\n",
       "    </tr>\n",
       "  </tbody>\n",
       "</table>\n",
       "</div>"
      ],
      "text/plain": [
       "     Cement  BlastFurnaceSlag  FlyAsh     Water  Superplasticizer  \\\n",
       "0  1.000000          0.000000     0.0  0.321086           0.07764   \n",
       "1  1.000000          0.000000     0.0  0.321086           0.07764   \n",
       "2  0.526256          0.396494     0.0  0.848243           0.00000   \n",
       "3  0.526256          0.396494     0.0  0.848243           0.00000   \n",
       "4  0.220548          0.368392     0.0  0.560703           0.00000   \n",
       "\n",
       "   CoarseAggregate  FineAggregate       Age  CC_Strength  \n",
       "0         0.694767       0.205720  0.074176     0.967485  \n",
       "1         0.738372       0.205720  0.074176     0.741996  \n",
       "2         0.380814       0.000000  0.739011     0.472655  \n",
       "3         0.380814       0.000000  1.000000     0.482372  \n",
       "4         0.515698       0.580783  0.986264     0.522860  "
      ]
     },
     "execution_count": 10,
     "metadata": {},
     "output_type": "execute_result"
    }
   ],
   "source": [
    "min_d = concrete_data.min()\n",
    "max_d = concrete_data.max()\n",
    "diff = max_d - min_d\n",
    "normalized_df=(concrete_data - min_d)/ diff\n",
    "normalized_df.head()"
   ]
  },
  {
   "cell_type": "code",
   "execution_count": 11,
   "metadata": {},
   "outputs": [],
   "source": [
    "test_d = normalized_df.sample(frac=0.3, random_state=1337)"
   ]
  },
  {
   "cell_type": "code",
   "execution_count": 12,
   "metadata": {},
   "outputs": [],
   "source": [
    "train_d = normalized_df.drop(test_d.index)"
   ]
  },
  {
   "cell_type": "code",
   "execution_count": 13,
   "metadata": {},
   "outputs": [
    {
     "name": "stdout",
     "output_type": "stream",
     "text": [
      "Using 721 samples for training and 309 for validation\n"
     ]
    }
   ],
   "source": [
    "print(\n",
    "    \"Using %d samples for training and %d for validation\"\n",
    "    % (len(train_d), len(test_d))\n",
    ")"
   ]
  },
  {
   "cell_type": "code",
   "execution_count": 14,
   "metadata": {},
   "outputs": [],
   "source": [
    "train_x = train_d.iloc[:,:-1]\n",
    "train_y = train_d.iloc[:,-1]"
   ]
  },
  {
   "cell_type": "code",
   "execution_count": 15,
   "metadata": {},
   "outputs": [],
   "source": [
    "test_x = test_d.iloc[:,:-1]\n",
    "test_y = test_d.iloc[:,-1]"
   ]
  },
  {
   "cell_type": "code",
   "execution_count": 16,
   "metadata": {},
   "outputs": [
    {
     "name": "stdout",
     "output_type": "stream",
     "text": [
      "(721, 8)\n",
      "(721,)\n",
      "(309, 8)\n",
      "(309,)\n"
     ]
    }
   ],
   "source": [
    "print(train_x.shape)\n",
    "print(train_y.shape)\n",
    "\n",
    "print(test_x.shape)\n",
    "print(test_y.shape)"
   ]
  },
  {
   "cell_type": "code",
   "execution_count": 17,
   "metadata": {},
   "outputs": [
    {
     "data": {
      "text/html": [
       "<div>\n",
       "<style scoped>\n",
       "    .dataframe tbody tr th:only-of-type {\n",
       "        vertical-align: middle;\n",
       "    }\n",
       "\n",
       "    .dataframe tbody tr th {\n",
       "        vertical-align: top;\n",
       "    }\n",
       "\n",
       "    .dataframe thead th {\n",
       "        text-align: right;\n",
       "    }\n",
       "</style>\n",
       "<table border=\"1\" class=\"dataframe\">\n",
       "  <thead>\n",
       "    <tr style=\"text-align: right;\">\n",
       "      <th></th>\n",
       "      <th>Cement</th>\n",
       "      <th>BlastFurnaceSlag</th>\n",
       "      <th>FlyAsh</th>\n",
       "      <th>Water</th>\n",
       "      <th>Superplasticizer</th>\n",
       "      <th>CoarseAggregate</th>\n",
       "      <th>FineAggregate</th>\n",
       "      <th>Age</th>\n",
       "    </tr>\n",
       "  </thead>\n",
       "  <tbody>\n",
       "    <tr>\n",
       "      <th>count</th>\n",
       "      <td>721.000000</td>\n",
       "      <td>721.000000</td>\n",
       "      <td>721.000000</td>\n",
       "      <td>721.000000</td>\n",
       "      <td>721.000000</td>\n",
       "      <td>721.000000</td>\n",
       "      <td>721.000000</td>\n",
       "      <td>721.000000</td>\n",
       "    </tr>\n",
       "    <tr>\n",
       "      <th>mean</th>\n",
       "      <td>0.398916</td>\n",
       "      <td>0.209151</td>\n",
       "      <td>0.275074</td>\n",
       "      <td>0.474875</td>\n",
       "      <td>0.191035</td>\n",
       "      <td>0.504600</td>\n",
       "      <td>0.454488</td>\n",
       "      <td>0.116867</td>\n",
       "    </tr>\n",
       "    <tr>\n",
       "      <th>std</th>\n",
       "      <td>0.236975</td>\n",
       "      <td>0.241233</td>\n",
       "      <td>0.320671</td>\n",
       "      <td>0.167766</td>\n",
       "      <td>0.181320</td>\n",
       "      <td>0.228512</td>\n",
       "      <td>0.196272</td>\n",
       "      <td>0.162553</td>\n",
       "    </tr>\n",
       "    <tr>\n",
       "      <th>min</th>\n",
       "      <td>0.000000</td>\n",
       "      <td>0.000000</td>\n",
       "      <td>0.000000</td>\n",
       "      <td>0.000000</td>\n",
       "      <td>0.000000</td>\n",
       "      <td>0.000000</td>\n",
       "      <td>0.000000</td>\n",
       "      <td>0.000000</td>\n",
       "    </tr>\n",
       "    <tr>\n",
       "      <th>25%</th>\n",
       "      <td>0.201598</td>\n",
       "      <td>0.000000</td>\n",
       "      <td>0.000000</td>\n",
       "      <td>0.349840</td>\n",
       "      <td>0.000000</td>\n",
       "      <td>0.380814</td>\n",
       "      <td>0.351982</td>\n",
       "      <td>0.016484</td>\n",
       "    </tr>\n",
       "    <tr>\n",
       "      <th>50%</th>\n",
       "      <td>0.349315</td>\n",
       "      <td>0.066778</td>\n",
       "      <td>0.000000</td>\n",
       "      <td>0.504792</td>\n",
       "      <td>0.195652</td>\n",
       "      <td>0.485465</td>\n",
       "      <td>0.466884</td>\n",
       "      <td>0.074176</td>\n",
       "    </tr>\n",
       "    <tr>\n",
       "      <th>75%</th>\n",
       "      <td>0.563927</td>\n",
       "      <td>0.403450</td>\n",
       "      <td>0.591204</td>\n",
       "      <td>0.560703</td>\n",
       "      <td>0.313665</td>\n",
       "      <td>0.694767</td>\n",
       "      <td>0.577020</td>\n",
       "      <td>0.151099</td>\n",
       "    </tr>\n",
       "    <tr>\n",
       "      <th>max</th>\n",
       "      <td>1.000000</td>\n",
       "      <td>1.000000</td>\n",
       "      <td>1.000000</td>\n",
       "      <td>0.999201</td>\n",
       "      <td>1.000000</td>\n",
       "      <td>1.000000</td>\n",
       "      <td>1.000000</td>\n",
       "      <td>1.000000</td>\n",
       "    </tr>\n",
       "  </tbody>\n",
       "</table>\n",
       "</div>"
      ],
      "text/plain": [
       "           Cement  BlastFurnaceSlag      FlyAsh       Water  Superplasticizer  \\\n",
       "count  721.000000        721.000000  721.000000  721.000000        721.000000   \n",
       "mean     0.398916          0.209151    0.275074    0.474875          0.191035   \n",
       "std      0.236975          0.241233    0.320671    0.167766          0.181320   \n",
       "min      0.000000          0.000000    0.000000    0.000000          0.000000   \n",
       "25%      0.201598          0.000000    0.000000    0.349840          0.000000   \n",
       "50%      0.349315          0.066778    0.000000    0.504792          0.195652   \n",
       "75%      0.563927          0.403450    0.591204    0.560703          0.313665   \n",
       "max      1.000000          1.000000    1.000000    0.999201          1.000000   \n",
       "\n",
       "       CoarseAggregate  FineAggregate         Age  \n",
       "count       721.000000     721.000000  721.000000  \n",
       "mean          0.504600       0.454488    0.116867  \n",
       "std           0.228512       0.196272    0.162553  \n",
       "min           0.000000       0.000000    0.000000  \n",
       "25%           0.380814       0.351982    0.016484  \n",
       "50%           0.485465       0.466884    0.074176  \n",
       "75%           0.694767       0.577020    0.151099  \n",
       "max           1.000000       1.000000    1.000000  "
      ]
     },
     "execution_count": 17,
     "metadata": {},
     "output_type": "execute_result"
    }
   ],
   "source": [
    "train_x.describe()"
   ]
  },
  {
   "cell_type": "code",
   "execution_count": 18,
   "metadata": {},
   "outputs": [],
   "source": [
    "# train_data = np.array(train_x.iloc[:])\n",
    "# test_data = np.array(test_x.iloc[:])"
   ]
  },
  {
   "cell_type": "code",
   "execution_count": 19,
   "metadata": {},
   "outputs": [],
   "source": [
    "train_data = train_x.to_numpy()\n",
    "test_data = test_x.to_numpy()"
   ]
  },
  {
   "cell_type": "code",
   "execution_count": 20,
   "metadata": {},
   "outputs": [],
   "source": [
    "test_labels= np.array(test_y.astype('float32'))\n",
    "train_labels= np.array(train_y.astype('float32'))"
   ]
  },
  {
   "cell_type": "code",
   "execution_count": 21,
   "metadata": {},
   "outputs": [],
   "source": [
    "# train_labels= np.array(train_y.astype('float32'))"
   ]
  },
  {
   "cell_type": "code",
   "execution_count": 22,
   "metadata": {},
   "outputs": [
    {
     "data": {
      "text/plain": [
       "(721,)"
      ]
     },
     "execution_count": 22,
     "metadata": {},
     "output_type": "execute_result"
    }
   ],
   "source": [
    "train_labels.shape"
   ]
  },
  {
   "cell_type": "code",
   "execution_count": 23,
   "metadata": {},
   "outputs": [],
   "source": [
    "# we are passing activation function as a parameter here so that we can call this function with tanh or relu while\n",
    "# fitting and training the model\n",
    "\n",
    "def build_model(act):\n",
    "    model = models.Sequential()\n",
    "    model.add(layers.Dense(10, activation= act,input_shape=(train_data.shape[1],)))\n",
    "    model.add(layers.Dense(8, activation= act))\n",
    "    model.add(layers.Dense(6, activation= act))\n",
    "    model.add(layers.Dense(1))\n",
    "    model.compile(optimizer='rmsprop', loss='mse', metrics=['mae'])\n",
    "    return model"
   ]
  },
  {
   "cell_type": "code",
   "execution_count": 24,
   "metadata": {},
   "outputs": [
    {
     "name": "stdout",
     "output_type": "stream",
     "text": [
      "Model: \"sequential\"\n",
      "_________________________________________________________________\n",
      "Layer (type)                 Output Shape              Param #   \n",
      "=================================================================\n",
      "dense (Dense)                (None, 10)                90        \n",
      "_________________________________________________________________\n",
      "dense_1 (Dense)              (None, 8)                 88        \n",
      "_________________________________________________________________\n",
      "dense_2 (Dense)              (None, 6)                 54        \n",
      "_________________________________________________________________\n",
      "dense_3 (Dense)              (None, 1)                 7         \n",
      "=================================================================\n",
      "Total params: 239\n",
      "Trainable params: 239\n",
      "Non-trainable params: 0\n",
      "_________________________________________________________________\n"
     ]
    }
   ],
   "source": [
    "build_model('relu').summary()"
   ]
  },
  {
   "cell_type": "code",
   "execution_count": 25,
   "metadata": {},
   "outputs": [
    {
     "name": "stdout",
     "output_type": "stream",
     "text": [
      "Epoch 1/100\n",
      "504/504 [==============================] - 2s 3ms/step - loss: 0.0967 - mae: 0.2489 - val_loss: 0.0371 - val_mae: 0.1535\n",
      "Epoch 2/100\n",
      "504/504 [==============================] - 1s 1ms/step - loss: 0.0422 - mae: 0.1693 - val_loss: 0.0284 - val_mae: 0.1348\n",
      "Epoch 3/100\n",
      "504/504 [==============================] - 1s 1ms/step - loss: 0.0328 - mae: 0.1461 - val_loss: 0.0341 - val_mae: 0.1519\n",
      "Epoch 4/100\n",
      "504/504 [==============================] - 1s 1ms/step - loss: 0.0205 - mae: 0.1151 - val_loss: 0.0295 - val_mae: 0.1406\n",
      "Epoch 5/100\n",
      "504/504 [==============================] - 1s 1ms/step - loss: 0.0171 - mae: 0.1015 - val_loss: 0.0226 - val_mae: 0.1218\n",
      "Epoch 6/100\n",
      "504/504 [==============================] - 1s 1ms/step - loss: 0.0164 - mae: 0.0943 - val_loss: 0.0258 - val_mae: 0.1308\n",
      "Epoch 7/100\n",
      "504/504 [==============================] - 1s 2ms/step - loss: 0.0167 - mae: 0.0940 - val_loss: 0.0178 - val_mae: 0.1064\n",
      "Epoch 8/100\n",
      "504/504 [==============================] - 1s 1ms/step - loss: 0.0178 - mae: 0.0990 - val_loss: 0.0168 - val_mae: 0.1035\n",
      "Epoch 9/100\n",
      "504/504 [==============================] - 1s 2ms/step - loss: 0.0189 - mae: 0.1010 - val_loss: 0.0160 - val_mae: 0.1014\n",
      "Epoch 10/100\n",
      "504/504 [==============================] - 1s 1ms/step - loss: 0.0168 - mae: 0.0954 - val_loss: 0.0175 - val_mae: 0.1078\n",
      "Epoch 11/100\n",
      "504/504 [==============================] - 1s 1ms/step - loss: 0.0163 - mae: 0.0945 - val_loss: 0.0227 - val_mae: 0.1224\n",
      "Epoch 12/100\n",
      "504/504 [==============================] - 1s 2ms/step - loss: 0.0148 - mae: 0.0839 - val_loss: 0.0195 - val_mae: 0.1137\n",
      "Epoch 13/100\n",
      "504/504 [==============================] - 1s 1ms/step - loss: 0.0154 - mae: 0.0903 - val_loss: 0.0187 - val_mae: 0.1114\n",
      "Epoch 14/100\n",
      "504/504 [==============================] - 1s 1ms/step - loss: 0.0160 - mae: 0.0916 - val_loss: 0.0118 - val_mae: 0.0866\n",
      "Epoch 15/100\n",
      "504/504 [==============================] - 1s 1ms/step - loss: 0.0144 - mae: 0.0918 - val_loss: 0.0137 - val_mae: 0.0947\n",
      "Epoch 16/100\n",
      "504/504 [==============================] - 1s 1ms/step - loss: 0.0153 - mae: 0.0901 - val_loss: 0.0126 - val_mae: 0.0904\n",
      "Epoch 17/100\n",
      "504/504 [==============================] - 1s 1ms/step - loss: 0.0119 - mae: 0.0818 - val_loss: 0.0133 - val_mae: 0.0922\n",
      "Epoch 18/100\n",
      "504/504 [==============================] - 1s 1ms/step - loss: 0.0128 - mae: 0.0819 - val_loss: 0.0103 - val_mae: 0.0800\n",
      "Epoch 19/100\n",
      "504/504 [==============================] - 1s 1ms/step - loss: 0.0128 - mae: 0.0820 - val_loss: 0.0112 - val_mae: 0.0841\n",
      "Epoch 20/100\n",
      "504/504 [==============================] - 1s 1ms/step - loss: 0.0116 - mae: 0.0785 - val_loss: 0.0097 - val_mae: 0.0789\n",
      "Epoch 21/100\n",
      "504/504 [==============================] - 1s 1ms/step - loss: 0.0097 - mae: 0.0719 - val_loss: 0.0115 - val_mae: 0.0847\n",
      "Epoch 22/100\n",
      "504/504 [==============================] - 1s 1ms/step - loss: 0.0096 - mae: 0.0726 - val_loss: 0.0115 - val_mae: 0.0855\n",
      "Epoch 23/100\n",
      "504/504 [==============================] - 1s 1ms/step - loss: 0.0094 - mae: 0.0713 - val_loss: 0.0090 - val_mae: 0.0754\n",
      "Epoch 24/100\n",
      "504/504 [==============================] - 1s 1ms/step - loss: 0.0083 - mae: 0.0684 - val_loss: 0.0113 - val_mae: 0.0880\n",
      "Epoch 25/100\n",
      "504/504 [==============================] - 1s 2ms/step - loss: 0.0089 - mae: 0.0714 - val_loss: 0.0191 - val_mae: 0.1155\n",
      "Epoch 26/100\n",
      "504/504 [==============================] - 1s 1ms/step - loss: 0.0089 - mae: 0.0688 - val_loss: 0.0145 - val_mae: 0.0982\n",
      "Epoch 27/100\n",
      "504/504 [==============================] - 1s 1ms/step - loss: 0.0079 - mae: 0.0678 - val_loss: 0.0114 - val_mae: 0.0871\n",
      "Epoch 28/100\n",
      "504/504 [==============================] - 1s 1ms/step - loss: 0.0071 - mae: 0.0624 - val_loss: 0.0149 - val_mae: 0.0997\n",
      "Epoch 29/100\n",
      "504/504 [==============================] - 1s 1ms/step - loss: 0.0082 - mae: 0.0680 - val_loss: 0.0117 - val_mae: 0.0873\n",
      "Epoch 30/100\n",
      "504/504 [==============================] - 1s 1ms/step - loss: 0.0070 - mae: 0.0629 - val_loss: 0.0119 - val_mae: 0.0898\n",
      "Epoch 31/100\n",
      "504/504 [==============================] - 1s 1ms/step - loss: 0.0070 - mae: 0.0635 - val_loss: 0.0122 - val_mae: 0.0888\n",
      "Epoch 32/100\n",
      "504/504 [==============================] - 1s 1ms/step - loss: 0.0060 - mae: 0.0587 - val_loss: 0.0081 - val_mae: 0.0739\n",
      "Epoch 33/100\n",
      "504/504 [==============================] - 1s 1ms/step - loss: 0.0066 - mae: 0.0600 - val_loss: 0.0105 - val_mae: 0.0832\n",
      "Epoch 34/100\n",
      "504/504 [==============================] - 1s 1ms/step - loss: 0.0061 - mae: 0.0591 - val_loss: 0.0112 - val_mae: 0.0848\n",
      "Epoch 35/100\n",
      "504/504 [==============================] - 1s 1ms/step - loss: 0.0067 - mae: 0.0617 - val_loss: 0.0095 - val_mae: 0.0782\n",
      "Epoch 36/100\n",
      "504/504 [==============================] - 1s 1ms/step - loss: 0.0062 - mae: 0.0596 - val_loss: 0.0117 - val_mae: 0.0873\n",
      "Epoch 37/100\n",
      "504/504 [==============================] - 1s 1ms/step - loss: 0.0072 - mae: 0.0634 - val_loss: 0.0147 - val_mae: 0.0979\n",
      "Epoch 38/100\n",
      "504/504 [==============================] - 1s 1ms/step - loss: 0.0065 - mae: 0.0604 - val_loss: 0.0100 - val_mae: 0.0801\n",
      "Epoch 39/100\n",
      "504/504 [==============================] - 1s 1ms/step - loss: 0.0059 - mae: 0.0585 - val_loss: 0.0127 - val_mae: 0.0895\n",
      "Epoch 40/100\n",
      "504/504 [==============================] - 1s 1ms/step - loss: 0.0060 - mae: 0.0587 - val_loss: 0.0102 - val_mae: 0.0817\n",
      "Epoch 41/100\n",
      "504/504 [==============================] - 1s 1ms/step - loss: 0.0065 - mae: 0.0612 - val_loss: 0.0129 - val_mae: 0.0895\n",
      "Epoch 42/100\n",
      "504/504 [==============================] - 1s 1ms/step - loss: 0.0067 - mae: 0.0618 - val_loss: 0.0142 - val_mae: 0.0945\n",
      "Epoch 43/100\n",
      "504/504 [==============================] - 1s 1ms/step - loss: 0.0066 - mae: 0.0615 - val_loss: 0.0127 - val_mae: 0.0885\n",
      "Epoch 44/100\n",
      "504/504 [==============================] - 1s 1ms/step - loss: 0.0054 - mae: 0.0554 - val_loss: 0.0181 - val_mae: 0.1065\n",
      "Epoch 45/100\n",
      "504/504 [==============================] - 1s 1ms/step - loss: 0.0053 - mae: 0.0551 - val_loss: 0.0119 - val_mae: 0.0861\n",
      "Epoch 46/100\n",
      "504/504 [==============================] - 1s 1ms/step - loss: 0.0055 - mae: 0.0562 - val_loss: 0.0184 - val_mae: 0.1080\n",
      "Epoch 47/100\n",
      "504/504 [==============================] - 1s 1ms/step - loss: 0.0061 - mae: 0.0591 - val_loss: 0.0110 - val_mae: 0.0832\n",
      "Epoch 48/100\n",
      "504/504 [==============================] - 1s 1ms/step - loss: 0.0061 - mae: 0.0576 - val_loss: 0.0161 - val_mae: 0.1007\n",
      "Epoch 49/100\n",
      "504/504 [==============================] - 1s 1ms/step - loss: 0.0054 - mae: 0.0569 - val_loss: 0.0139 - val_mae: 0.0931\n",
      "Epoch 50/100\n",
      "504/504 [==============================] - 1s 1ms/step - loss: 0.0060 - mae: 0.0579 - val_loss: 0.0188 - val_mae: 0.1076\n",
      "Epoch 51/100\n",
      "504/504 [==============================] - 1s 1ms/step - loss: 0.0053 - mae: 0.0566 - val_loss: 0.0195 - val_mae: 0.1110\n",
      "Epoch 52/100\n",
      "504/504 [==============================] - 1s 1ms/step - loss: 0.0054 - mae: 0.0552 - val_loss: 0.0110 - val_mae: 0.0813\n",
      "Epoch 53/100\n",
      "504/504 [==============================] - 1s 1ms/step - loss: 0.0055 - mae: 0.0567 - val_loss: 0.0156 - val_mae: 0.0984\n",
      "Epoch 54/100\n",
      "504/504 [==============================] - 1s 1ms/step - loss: 0.0060 - mae: 0.0584 - val_loss: 0.0170 - val_mae: 0.1041\n",
      "Epoch 55/100\n",
      "504/504 [==============================] - 1s 1ms/step - loss: 0.0057 - mae: 0.0591 - val_loss: 0.0134 - val_mae: 0.0915\n",
      "Epoch 56/100\n",
      "504/504 [==============================] - 1s 1ms/step - loss: 0.0053 - mae: 0.0536 - val_loss: 0.0136 - val_mae: 0.0926\n",
      "Epoch 57/100\n",
      "504/504 [==============================] - 1s 1ms/step - loss: 0.0056 - mae: 0.0579 - val_loss: 0.0170 - val_mae: 0.1013\n",
      "Epoch 58/100\n",
      "504/504 [==============================] - 1s 1ms/step - loss: 0.0057 - mae: 0.0576 - val_loss: 0.0173 - val_mae: 0.1048\n",
      "Epoch 59/100\n",
      "504/504 [==============================] - 1s 1ms/step - loss: 0.0060 - mae: 0.0589 - val_loss: 0.0142 - val_mae: 0.0919\n",
      "Epoch 60/100\n",
      "504/504 [==============================] - 1s 1ms/step - loss: 0.0052 - mae: 0.0564 - val_loss: 0.0182 - val_mae: 0.1064\n",
      "Epoch 61/100\n",
      "504/504 [==============================] - 1s 1ms/step - loss: 0.0058 - mae: 0.0578 - val_loss: 0.0219 - val_mae: 0.1179\n",
      "Epoch 62/100\n"
     ]
    },
    {
     "name": "stdout",
     "output_type": "stream",
     "text": [
      "504/504 [==============================] - 1s 1ms/step - loss: 0.0049 - mae: 0.0529 - val_loss: 0.0197 - val_mae: 0.1130\n",
      "Epoch 63/100\n",
      "504/504 [==============================] - 1s 1ms/step - loss: 0.0053 - mae: 0.0555 - val_loss: 0.0138 - val_mae: 0.0916\n",
      "Epoch 64/100\n",
      "504/504 [==============================] - 1s 1ms/step - loss: 0.0054 - mae: 0.0559 - val_loss: 0.0178 - val_mae: 0.1040\n",
      "Epoch 65/100\n",
      "504/504 [==============================] - 1s 1ms/step - loss: 0.0064 - mae: 0.0593 - val_loss: 0.0178 - val_mae: 0.1031\n",
      "Epoch 66/100\n",
      "504/504 [==============================] - 1s 1ms/step - loss: 0.0049 - mae: 0.0527 - val_loss: 0.0187 - val_mae: 0.1070\n",
      "Epoch 67/100\n",
      "504/504 [==============================] - 1s 1ms/step - loss: 0.0057 - mae: 0.0559 - val_loss: 0.0140 - val_mae: 0.0924\n",
      "Epoch 68/100\n",
      "504/504 [==============================] - 1s 1ms/step - loss: 0.0056 - mae: 0.0550 - val_loss: 0.0172 - val_mae: 0.1022\n",
      "Epoch 69/100\n",
      "504/504 [==============================] - 1s 1ms/step - loss: 0.0047 - mae: 0.0517 - val_loss: 0.0214 - val_mae: 0.1170\n",
      "Epoch 70/100\n",
      "504/504 [==============================] - 1s 1ms/step - loss: 0.0051 - mae: 0.0529 - val_loss: 0.0144 - val_mae: 0.0941\n",
      "Epoch 71/100\n",
      "504/504 [==============================] - 1s 1ms/step - loss: 0.0047 - mae: 0.0534 - val_loss: 0.0154 - val_mae: 0.0965\n",
      "Epoch 72/100\n",
      "504/504 [==============================] - 1s 1ms/step - loss: 0.0049 - mae: 0.0526 - val_loss: 0.0163 - val_mae: 0.0997\n",
      "Epoch 73/100\n",
      "504/504 [==============================] - 1s 1ms/step - loss: 0.0050 - mae: 0.0539 - val_loss: 0.0225 - val_mae: 0.1174\n",
      "Epoch 74/100\n",
      "504/504 [==============================] - 1s 1ms/step - loss: 0.0061 - mae: 0.0573 - val_loss: 0.0187 - val_mae: 0.1050\n",
      "Epoch 75/100\n",
      "504/504 [==============================] - 1s 1ms/step - loss: 0.0041 - mae: 0.0479 - val_loss: 0.0128 - val_mae: 0.0879\n",
      "Epoch 76/100\n",
      "504/504 [==============================] - 1s 1ms/step - loss: 0.0047 - mae: 0.0522 - val_loss: 0.0254 - val_mae: 0.1252\n",
      "Epoch 77/100\n",
      "504/504 [==============================] - 1s 1ms/step - loss: 0.0044 - mae: 0.0493 - val_loss: 0.0195 - val_mae: 0.1092\n",
      "Epoch 78/100\n",
      "504/504 [==============================] - 1s 1ms/step - loss: 0.0050 - mae: 0.0529 - val_loss: 0.0164 - val_mae: 0.1003\n",
      "Epoch 79/100\n",
      "504/504 [==============================] - 1s 1ms/step - loss: 0.0045 - mae: 0.0504 - val_loss: 0.0195 - val_mae: 0.1089\n",
      "Epoch 80/100\n",
      "504/504 [==============================] - 1s 1ms/step - loss: 0.0051 - mae: 0.0533 - val_loss: 0.0156 - val_mae: 0.0958\n",
      "Epoch 81/100\n",
      "504/504 [==============================] - 1s 1ms/step - loss: 0.0055 - mae: 0.0541 - val_loss: 0.0178 - val_mae: 0.1022\n",
      "Epoch 82/100\n",
      "504/504 [==============================] - 1s 1ms/step - loss: 0.0049 - mae: 0.0521 - val_loss: 0.0162 - val_mae: 0.0997\n",
      "Epoch 83/100\n",
      "504/504 [==============================] - 1s 1ms/step - loss: 0.0045 - mae: 0.0506 - val_loss: 0.0229 - val_mae: 0.1203\n",
      "Epoch 84/100\n",
      "504/504 [==============================] - 1s 1ms/step - loss: 0.0052 - mae: 0.0540 - val_loss: 0.0221 - val_mae: 0.1160\n",
      "Epoch 85/100\n",
      "504/504 [==============================] - 1s 1ms/step - loss: 0.0055 - mae: 0.0556 - val_loss: 0.0235 - val_mae: 0.1209\n",
      "Epoch 86/100\n",
      "504/504 [==============================] - 1s 1ms/step - loss: 0.0052 - mae: 0.0523 - val_loss: 0.0177 - val_mae: 0.1018\n",
      "Epoch 87/100\n",
      "504/504 [==============================] - 1s 1ms/step - loss: 0.0045 - mae: 0.0513 - val_loss: 0.0149 - val_mae: 0.0936\n",
      "Epoch 88/100\n",
      "504/504 [==============================] - 1s 1ms/step - loss: 0.0045 - mae: 0.0522 - val_loss: 0.0262 - val_mae: 0.1250\n",
      "Epoch 89/100\n",
      "504/504 [==============================] - 1s 1ms/step - loss: 0.0047 - mae: 0.0534 - val_loss: 0.0184 - val_mae: 0.1056\n",
      "Epoch 90/100\n",
      "504/504 [==============================] - 1s 1ms/step - loss: 0.0048 - mae: 0.0523 - val_loss: 0.0215 - val_mae: 0.1128\n",
      "Epoch 91/100\n",
      "504/504 [==============================] - 1s 1ms/step - loss: 0.0062 - mae: 0.0587 - val_loss: 0.0245 - val_mae: 0.1226\n",
      "Epoch 92/100\n",
      "504/504 [==============================] - 1s 1ms/step - loss: 0.0042 - mae: 0.0491 - val_loss: 0.0214 - val_mae: 0.1103\n",
      "Epoch 93/100\n",
      "504/504 [==============================] - 1s 1ms/step - loss: 0.0051 - mae: 0.0517 - val_loss: 0.0166 - val_mae: 0.0962\n",
      "Epoch 94/100\n",
      "504/504 [==============================] - 1s 1ms/step - loss: 0.0050 - mae: 0.0526 - val_loss: 0.0247 - val_mae: 0.1222\n",
      "Epoch 95/100\n",
      "504/504 [==============================] - 1s 1ms/step - loss: 0.0043 - mae: 0.0503 - val_loss: 0.0162 - val_mae: 0.0979\n",
      "Epoch 96/100\n",
      "504/504 [==============================] - 1s 1ms/step - loss: 0.0048 - mae: 0.0529 - val_loss: 0.0224 - val_mae: 0.1175\n",
      "Epoch 97/100\n",
      "504/504 [==============================] - 1s 1ms/step - loss: 0.0049 - mae: 0.0515 - val_loss: 0.0215 - val_mae: 0.1110\n",
      "Epoch 98/100\n",
      "504/504 [==============================] - ETA: 0s - loss: 0.0047 - mae: 0.049 - 1s 1ms/step - loss: 0.0047 - mae: 0.0496 - val_loss: 0.0241 - val_mae: 0.1196\n",
      "Epoch 99/100\n",
      "504/504 [==============================] - 1s 1ms/step - loss: 0.0048 - mae: 0.0522 - val_loss: 0.0208 - val_mae: 0.1099\n",
      "Epoch 100/100\n",
      "504/504 [==============================] - 1s 1ms/step - loss: 0.0038 - mae: 0.0452 - val_loss: 0.0187 - val_mae: 0.1033\n"
     ]
    }
   ],
   "source": [
    "model_relu = build_model('relu')\n",
    "history = model_relu.fit(train_data, train_labels,epochs= 100, batch_size=1, validation_split=0.3)"
   ]
  },
  {
   "cell_type": "code",
   "execution_count": 26,
   "metadata": {},
   "outputs": [
    {
     "name": "stdout",
     "output_type": "stream",
     "text": [
      "10/10 [==============================] - 0s 2ms/step - loss: 0.0092 - mae: 0.0688\n"
     ]
    }
   ],
   "source": [
    "test_mse_score, test_mae_score = model_relu.evaluate(test_data, test_labels)"
   ]
  },
  {
   "cell_type": "code",
   "execution_count": 27,
   "metadata": {},
   "outputs": [
    {
     "data": {
      "text/plain": [
       "dict_keys(['loss', 'mae', 'val_loss', 'val_mae'])"
      ]
     },
     "execution_count": 27,
     "metadata": {},
     "output_type": "execute_result"
    }
   ],
   "source": [
    "history.history.keys()"
   ]
  },
  {
   "cell_type": "code",
   "execution_count": 28,
   "metadata": {},
   "outputs": [],
   "source": [
    "val_mae = history.history['val_mae']\n",
    "val_loss = history.history['val_loss']"
   ]
  },
  {
   "cell_type": "code",
   "execution_count": 29,
   "metadata": {},
   "outputs": [
    {
     "data": {
      "image/png": "[encoded data removed]",
      "text/plain": [
       "<Figure size 432x288 with 1 Axes>"
      ]
     },
     "metadata": {
      "needs_background": "light"
     },
     "output_type": "display_data"
    }
   ],
   "source": [
    "history_dict = history.history\n",
    "loss_values = history_dict['loss']\n",
    "val_loss_values = history_dict['val_loss']\n",
    "epochs = range(len(history_dict['loss']))\n",
    "plt.plot(epochs, loss_values, 'bo', label='Training loss')\n",
    "plt.plot(epochs, val_loss_values, 'b', label='Validation loss')\n",
    "plt.title('Training and validation loss')\n",
    "plt.xlabel('Epochs')\n",
    "plt.ylabel('Loss')\n",
    "plt.legend()\n",
    "plt.show()"
   ]
  },
  {
   "cell_type": "code",
   "execution_count": 30,
   "metadata": {},
   "outputs": [
    {
     "data": {
      "image/png": "[encoded data removed]",
      "text/plain": [
       "<Figure size 432x288 with 1 Axes>"
      ]
     },
     "metadata": {
      "needs_background": "light"
     },
     "output_type": "display_data"
    }
   ],
   "source": [
    "acc_values = history_dict['mae']\n",
    "val_acc_values = history_dict['val_mae']\n",
    "plt.plot(epochs, acc_values, 'bo', label='Training mae')\n",
    "plt.plot(epochs, val_acc_values, 'b', label='Validation mae')\n",
    "plt.title('Training and validation accuracy')\n",
    "plt.xlabel('Epochs')\n",
    "plt.ylabel('mae')\n",
    "plt.legend()\n",
    "plt.show()"
   ]
  },
  {
   "cell_type": "code",
   "execution_count": 31,
   "metadata": {},
   "outputs": [
    {
     "data": {
      "text/plain": [
       "(309, 1)"
      ]
     },
     "execution_count": 31,
     "metadata": {},
     "output_type": "execute_result"
    }
   ],
   "source": [
    "y_predict = model_relu.predict(test_data)\n",
    "y_predict.shape"
   ]
  },
  {
   "cell_type": "code",
   "execution_count": 32,
   "metadata": {},
   "outputs": [],
   "source": [
    "def denorm(x):\n",
    "    return (x * std_label) + mean_label"
   ]
  },
  {
   "cell_type": "code",
   "execution_count": 33,
   "metadata": {},
   "outputs": [
    {
     "data": {
      "text/plain": [
       "(309,)"
      ]
     },
     "execution_count": 33,
     "metadata": {},
     "output_type": "execute_result"
    }
   ],
   "source": [
    "\n",
    "y_predict = denorm(y_predict)\n",
    "y_predict = y_predict.flatten()\n",
    "y_predict.shape"
   ]
  },
  {
   "cell_type": "code",
   "execution_count": 34,
   "metadata": {},
   "outputs": [
    {
     "data": {
      "text/plain": [
       "(309,)"
      ]
     },
     "execution_count": 34,
     "metadata": {},
     "output_type": "execute_result"
    }
   ],
   "source": [
    "y_true = denorm(test_labels)\n",
    "y_true = y_true.flatten()\n",
    "test_labels.shape"
   ]
  },
  {
   "cell_type": "code",
   "execution_count": 35,
   "metadata": {},
   "outputs": [
    {
     "data": {
      "text/plain": [
       "(35.0, 55.0)"
      ]
     },
     "execution_count": 35,
     "metadata": {},
     "output_type": "execute_result"
    },
    {
     "data": {
      "image/png": "[encoded data removed]",
      "text/plain": [
       "<Figure size 432x288 with 1 Axes>"
      ]
     },
     "metadata": {
      "needs_background": "light"
     },
     "output_type": "display_data"
    }
   ],
   "source": [
    "coef = np.polyfit(y_true,y_predict,1)\n",
    "poly1d_fn = np.poly1d(coef) \n",
    "# poly1d_fn is now a function which takes in x and returns an estimate for y\n",
    "\n",
    "plt.plot(y_true, y_predict, 'bo', y_true, poly1d_fn(y_true), '--k')\n",
    "plt.xlim(35, 55)\n",
    "plt.ylim(35, 55)"
   ]
  },
  {
   "cell_type": "code",
   "execution_count": null,
   "metadata": {},
   "outputs": [],
   "source": []
  },
  {
   "cell_type": "code",
   "execution_count": null,
   "metadata": {},
   "outputs": [],
   "source": []
  }
 ],
 "metadata": {
  "kernelspec": {
   "display_name": "Python 3",
   "language": "python",
   "name": "python3"
  },
  "language_info": {
   "codemirror_mode": {
    "name": "ipython",
    "version": 3
   },
   "file_extension": ".py",
   "mimetype": "text/x-python",
   "name": "python",
   "nbconvert_exporter": "python",
   "pygments_lexer": "ipython3",
   "version": "3.8.5"
  }
 },
 "nbformat": 4,
 "nbformat_minor": 2
}
