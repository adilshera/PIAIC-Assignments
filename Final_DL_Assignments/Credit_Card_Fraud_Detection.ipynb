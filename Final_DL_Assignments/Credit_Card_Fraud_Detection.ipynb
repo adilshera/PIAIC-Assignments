{
 "cells": [
  {
   "cell_type": "code",
   "execution_count": 2,
   "metadata": {
    "id": "LdNU892PIozd"
   },
   "outputs": [],
   "source": [
    "import pandas as pd\n",
    "import numpy as np\n",
    "import matplotlib.pyplot as plt\n",
    "import tensorflow as tf"
   ]
  },
  {
   "cell_type": "markdown",
   "metadata": {
    "id": "gXSlrsDd876H"
   },
   "source": [
    "# **Load Data**"
   ]
  },
  {
   "cell_type": "code",
   "execution_count": 3,
   "metadata": {
    "id": "XXYefSPSOidg"
   },
   "outputs": [],
   "source": [
    "data = pd.read_csv('creditcard.csv')"
   ]
  },
  {
   "cell_type": "code",
   "execution_count": 4,
   "metadata": {
    "colab": {
     "base_uri": "https://localhost:8080/",
     "height": 308
    },
    "id": "5O1cZFf1OmFo",
    "outputId": "426f8bf4-d9d7-4bfb-8d35-18ecc59a78e2"
   },
   "outputs": [
    {
     "data": {
      "text/html": [
       "<div>\n",
       "<style scoped>\n",
       "    .dataframe tbody tr th:only-of-type {\n",
       "        vertical-align: middle;\n",
       "    }\n",
       "\n",
       "    .dataframe tbody tr th {\n",
       "        vertical-align: top;\n",
       "    }\n",
       "\n",
       "    .dataframe thead th {\n",
       "        text-align: right;\n",
       "    }\n",
       "</style>\n",
       "<table border=\"1\" class=\"dataframe\">\n",
       "  <thead>\n",
       "    <tr style=\"text-align: right;\">\n",
       "      <th></th>\n",
       "      <th>Time</th>\n",
       "      <th>V1</th>\n",
       "      <th>V2</th>\n",
       "      <th>V3</th>\n",
       "      <th>V4</th>\n",
       "      <th>V5</th>\n",
       "      <th>V6</th>\n",
       "      <th>V7</th>\n",
       "      <th>V8</th>\n",
       "      <th>V9</th>\n",
       "      <th>...</th>\n",
       "      <th>V21</th>\n",
       "      <th>V22</th>\n",
       "      <th>V23</th>\n",
       "      <th>V24</th>\n",
       "      <th>V25</th>\n",
       "      <th>V26</th>\n",
       "      <th>V27</th>\n",
       "      <th>V28</th>\n",
       "      <th>Amount</th>\n",
       "      <th>Class</th>\n",
       "    </tr>\n",
       "  </thead>\n",
       "  <tbody>\n",
       "    <tr>\n",
       "      <th>count</th>\n",
       "      <td>284807.000000</td>\n",
       "      <td>2.848070e+05</td>\n",
       "      <td>2.848070e+05</td>\n",
       "      <td>2.848070e+05</td>\n",
       "      <td>2.848070e+05</td>\n",
       "      <td>2.848070e+05</td>\n",
       "      <td>2.848070e+05</td>\n",
       "      <td>2.848070e+05</td>\n",
       "      <td>2.848070e+05</td>\n",
       "      <td>2.848070e+05</td>\n",
       "      <td>...</td>\n",
       "      <td>2.848070e+05</td>\n",
       "      <td>2.848070e+05</td>\n",
       "      <td>2.848070e+05</td>\n",
       "      <td>2.848070e+05</td>\n",
       "      <td>2.848070e+05</td>\n",
       "      <td>2.848070e+05</td>\n",
       "      <td>2.848070e+05</td>\n",
       "      <td>2.848070e+05</td>\n",
       "      <td>284807.000000</td>\n",
       "      <td>284807.000000</td>\n",
       "    </tr>\n",
       "    <tr>\n",
       "      <th>mean</th>\n",
       "      <td>94813.859575</td>\n",
       "      <td>3.919560e-15</td>\n",
       "      <td>5.688174e-16</td>\n",
       "      <td>-8.769071e-15</td>\n",
       "      <td>2.782312e-15</td>\n",
       "      <td>-1.552563e-15</td>\n",
       "      <td>2.010663e-15</td>\n",
       "      <td>-1.694249e-15</td>\n",
       "      <td>-1.927028e-16</td>\n",
       "      <td>-3.137024e-15</td>\n",
       "      <td>...</td>\n",
       "      <td>1.537294e-16</td>\n",
       "      <td>7.959909e-16</td>\n",
       "      <td>5.367590e-16</td>\n",
       "      <td>4.458112e-15</td>\n",
       "      <td>1.453003e-15</td>\n",
       "      <td>1.699104e-15</td>\n",
       "      <td>-3.660161e-16</td>\n",
       "      <td>-1.206049e-16</td>\n",
       "      <td>88.349619</td>\n",
       "      <td>0.001727</td>\n",
       "    </tr>\n",
       "    <tr>\n",
       "      <th>std</th>\n",
       "      <td>47488.145955</td>\n",
       "      <td>1.958696e+00</td>\n",
       "      <td>1.651309e+00</td>\n",
       "      <td>1.516255e+00</td>\n",
       "      <td>1.415869e+00</td>\n",
       "      <td>1.380247e+00</td>\n",
       "      <td>1.332271e+00</td>\n",
       "      <td>1.237094e+00</td>\n",
       "      <td>1.194353e+00</td>\n",
       "      <td>1.098632e+00</td>\n",
       "      <td>...</td>\n",
       "      <td>7.345240e-01</td>\n",
       "      <td>7.257016e-01</td>\n",
       "      <td>6.244603e-01</td>\n",
       "      <td>6.056471e-01</td>\n",
       "      <td>5.212781e-01</td>\n",
       "      <td>4.822270e-01</td>\n",
       "      <td>4.036325e-01</td>\n",
       "      <td>3.300833e-01</td>\n",
       "      <td>250.120109</td>\n",
       "      <td>0.041527</td>\n",
       "    </tr>\n",
       "    <tr>\n",
       "      <th>min</th>\n",
       "      <td>0.000000</td>\n",
       "      <td>-5.640751e+01</td>\n",
       "      <td>-7.271573e+01</td>\n",
       "      <td>-4.832559e+01</td>\n",
       "      <td>-5.683171e+00</td>\n",
       "      <td>-1.137433e+02</td>\n",
       "      <td>-2.616051e+01</td>\n",
       "      <td>-4.355724e+01</td>\n",
       "      <td>-7.321672e+01</td>\n",
       "      <td>-1.343407e+01</td>\n",
       "      <td>...</td>\n",
       "      <td>-3.483038e+01</td>\n",
       "      <td>-1.093314e+01</td>\n",
       "      <td>-4.480774e+01</td>\n",
       "      <td>-2.836627e+00</td>\n",
       "      <td>-1.029540e+01</td>\n",
       "      <td>-2.604551e+00</td>\n",
       "      <td>-2.256568e+01</td>\n",
       "      <td>-1.543008e+01</td>\n",
       "      <td>0.000000</td>\n",
       "      <td>0.000000</td>\n",
       "    </tr>\n",
       "    <tr>\n",
       "      <th>25%</th>\n",
       "      <td>54201.500000</td>\n",
       "      <td>-9.203734e-01</td>\n",
       "      <td>-5.985499e-01</td>\n",
       "      <td>-8.903648e-01</td>\n",
       "      <td>-8.486401e-01</td>\n",
       "      <td>-6.915971e-01</td>\n",
       "      <td>-7.682956e-01</td>\n",
       "      <td>-5.540759e-01</td>\n",
       "      <td>-2.086297e-01</td>\n",
       "      <td>-6.430976e-01</td>\n",
       "      <td>...</td>\n",
       "      <td>-2.283949e-01</td>\n",
       "      <td>-5.423504e-01</td>\n",
       "      <td>-1.618463e-01</td>\n",
       "      <td>-3.545861e-01</td>\n",
       "      <td>-3.171451e-01</td>\n",
       "      <td>-3.269839e-01</td>\n",
       "      <td>-7.083953e-02</td>\n",
       "      <td>-5.295979e-02</td>\n",
       "      <td>5.600000</td>\n",
       "      <td>0.000000</td>\n",
       "    </tr>\n",
       "    <tr>\n",
       "      <th>50%</th>\n",
       "      <td>84692.000000</td>\n",
       "      <td>1.810880e-02</td>\n",
       "      <td>6.548556e-02</td>\n",
       "      <td>1.798463e-01</td>\n",
       "      <td>-1.984653e-02</td>\n",
       "      <td>-5.433583e-02</td>\n",
       "      <td>-2.741871e-01</td>\n",
       "      <td>4.010308e-02</td>\n",
       "      <td>2.235804e-02</td>\n",
       "      <td>-5.142873e-02</td>\n",
       "      <td>...</td>\n",
       "      <td>-2.945017e-02</td>\n",
       "      <td>6.781943e-03</td>\n",
       "      <td>-1.119293e-02</td>\n",
       "      <td>4.097606e-02</td>\n",
       "      <td>1.659350e-02</td>\n",
       "      <td>-5.213911e-02</td>\n",
       "      <td>1.342146e-03</td>\n",
       "      <td>1.124383e-02</td>\n",
       "      <td>22.000000</td>\n",
       "      <td>0.000000</td>\n",
       "    </tr>\n",
       "    <tr>\n",
       "      <th>75%</th>\n",
       "      <td>139320.500000</td>\n",
       "      <td>1.315642e+00</td>\n",
       "      <td>8.037239e-01</td>\n",
       "      <td>1.027196e+00</td>\n",
       "      <td>7.433413e-01</td>\n",
       "      <td>6.119264e-01</td>\n",
       "      <td>3.985649e-01</td>\n",
       "      <td>5.704361e-01</td>\n",
       "      <td>3.273459e-01</td>\n",
       "      <td>5.971390e-01</td>\n",
       "      <td>...</td>\n",
       "      <td>1.863772e-01</td>\n",
       "      <td>5.285536e-01</td>\n",
       "      <td>1.476421e-01</td>\n",
       "      <td>4.395266e-01</td>\n",
       "      <td>3.507156e-01</td>\n",
       "      <td>2.409522e-01</td>\n",
       "      <td>9.104512e-02</td>\n",
       "      <td>7.827995e-02</td>\n",
       "      <td>77.165000</td>\n",
       "      <td>0.000000</td>\n",
       "    </tr>\n",
       "    <tr>\n",
       "      <th>max</th>\n",
       "      <td>172792.000000</td>\n",
       "      <td>2.454930e+00</td>\n",
       "      <td>2.205773e+01</td>\n",
       "      <td>9.382558e+00</td>\n",
       "      <td>1.687534e+01</td>\n",
       "      <td>3.480167e+01</td>\n",
       "      <td>7.330163e+01</td>\n",
       "      <td>1.205895e+02</td>\n",
       "      <td>2.000721e+01</td>\n",
       "      <td>1.559499e+01</td>\n",
       "      <td>...</td>\n",
       "      <td>2.720284e+01</td>\n",
       "      <td>1.050309e+01</td>\n",
       "      <td>2.252841e+01</td>\n",
       "      <td>4.584549e+00</td>\n",
       "      <td>7.519589e+00</td>\n",
       "      <td>3.517346e+00</td>\n",
       "      <td>3.161220e+01</td>\n",
       "      <td>3.384781e+01</td>\n",
       "      <td>25691.160000</td>\n",
       "      <td>1.000000</td>\n",
       "    </tr>\n",
       "  </tbody>\n",
       "</table>\n",
       "<p>8 rows × 31 columns</p>\n",
       "</div>"
      ],
      "text/plain": [
       "                Time            V1            V2            V3            V4  \\\n",
       "count  284807.000000  2.848070e+05  2.848070e+05  2.848070e+05  2.848070e+05   \n",
       "mean    94813.859575  3.919560e-15  5.688174e-16 -8.769071e-15  2.782312e-15   \n",
       "std     47488.145955  1.958696e+00  1.651309e+00  1.516255e+00  1.415869e+00   \n",
       "min         0.000000 -5.640751e+01 -7.271573e+01 -4.832559e+01 -5.683171e+00   \n",
       "25%     54201.500000 -9.203734e-01 -5.985499e-01 -8.903648e-01 -8.486401e-01   \n",
       "50%     84692.000000  1.810880e-02  6.548556e-02  1.798463e-01 -1.984653e-02   \n",
       "75%    139320.500000  1.315642e+00  8.037239e-01  1.027196e+00  7.433413e-01   \n",
       "max    172792.000000  2.454930e+00  2.205773e+01  9.382558e+00  1.687534e+01   \n",
       "\n",
       "                 V5            V6            V7            V8            V9  \\\n",
       "count  2.848070e+05  2.848070e+05  2.848070e+05  2.848070e+05  2.848070e+05   \n",
       "mean  -1.552563e-15  2.010663e-15 -1.694249e-15 -1.927028e-16 -3.137024e-15   \n",
       "std    1.380247e+00  1.332271e+00  1.237094e+00  1.194353e+00  1.098632e+00   \n",
       "min   -1.137433e+02 -2.616051e+01 -4.355724e+01 -7.321672e+01 -1.343407e+01   \n",
       "25%   -6.915971e-01 -7.682956e-01 -5.540759e-01 -2.086297e-01 -6.430976e-01   \n",
       "50%   -5.433583e-02 -2.741871e-01  4.010308e-02  2.235804e-02 -5.142873e-02   \n",
       "75%    6.119264e-01  3.985649e-01  5.704361e-01  3.273459e-01  5.971390e-01   \n",
       "max    3.480167e+01  7.330163e+01  1.205895e+02  2.000721e+01  1.559499e+01   \n",
       "\n",
       "       ...           V21           V22           V23           V24  \\\n",
       "count  ...  2.848070e+05  2.848070e+05  2.848070e+05  2.848070e+05   \n",
       "mean   ...  1.537294e-16  7.959909e-16  5.367590e-16  4.458112e-15   \n",
       "std    ...  7.345240e-01  7.257016e-01  6.244603e-01  6.056471e-01   \n",
       "min    ... -3.483038e+01 -1.093314e+01 -4.480774e+01 -2.836627e+00   \n",
       "25%    ... -2.283949e-01 -5.423504e-01 -1.618463e-01 -3.545861e-01   \n",
       "50%    ... -2.945017e-02  6.781943e-03 -1.119293e-02  4.097606e-02   \n",
       "75%    ...  1.863772e-01  5.285536e-01  1.476421e-01  4.395266e-01   \n",
       "max    ...  2.720284e+01  1.050309e+01  2.252841e+01  4.584549e+00   \n",
       "\n",
       "                V25           V26           V27           V28         Amount  \\\n",
       "count  2.848070e+05  2.848070e+05  2.848070e+05  2.848070e+05  284807.000000   \n",
       "mean   1.453003e-15  1.699104e-15 -3.660161e-16 -1.206049e-16      88.349619   \n",
       "std    5.212781e-01  4.822270e-01  4.036325e-01  3.300833e-01     250.120109   \n",
       "min   -1.029540e+01 -2.604551e+00 -2.256568e+01 -1.543008e+01       0.000000   \n",
       "25%   -3.171451e-01 -3.269839e-01 -7.083953e-02 -5.295979e-02       5.600000   \n",
       "50%    1.659350e-02 -5.213911e-02  1.342146e-03  1.124383e-02      22.000000   \n",
       "75%    3.507156e-01  2.409522e-01  9.104512e-02  7.827995e-02      77.165000   \n",
       "max    7.519589e+00  3.517346e+00  3.161220e+01  3.384781e+01   25691.160000   \n",
       "\n",
       "               Class  \n",
       "count  284807.000000  \n",
       "mean        0.001727  \n",
       "std         0.041527  \n",
       "min         0.000000  \n",
       "25%         0.000000  \n",
       "50%         0.000000  \n",
       "75%         0.000000  \n",
       "max         1.000000  \n",
       "\n",
       "[8 rows x 31 columns]"
      ]
     },
     "execution_count": 4,
     "metadata": {},
     "output_type": "execute_result"
    }
   ],
   "source": [
    "data.describe()"
   ]
  },
  {
   "cell_type": "markdown",
   "metadata": {
    "id": "WedbRy3l9Nb6"
   },
   "source": [
    "# **Check Missing Values ( If Exist ; Fill each record with mean of its feature )**"
   ]
  },
  {
   "cell_type": "code",
   "execution_count": 5,
   "metadata": {
    "colab": {
     "base_uri": "https://localhost:8080/"
    },
    "id": "SZ3K03HAP20X",
    "outputId": "85f9be3c-e00c-4c68-eda1-d850e6287e9d"
   },
   "outputs": [
    {
     "name": "stdout",
     "output_type": "stream",
     "text": [
      "Wall time: 25 ms\n"
     ]
    },
    {
     "data": {
      "text/plain": [
       "Time      False\n",
       "V1        False\n",
       "V2        False\n",
       "V3        False\n",
       "V4        False\n",
       "V5        False\n",
       "V6        False\n",
       "V7        False\n",
       "V8        False\n",
       "V9        False\n",
       "V10       False\n",
       "V11       False\n",
       "V12       False\n",
       "V13       False\n",
       "V14       False\n",
       "V15       False\n",
       "V16       False\n",
       "V17       False\n",
       "V18       False\n",
       "V19       False\n",
       "V20       False\n",
       "V21       False\n",
       "V22       False\n",
       "V23       False\n",
       "V24       False\n",
       "V25       False\n",
       "V26       False\n",
       "V27       False\n",
       "V28       False\n",
       "Amount    False\n",
       "Class     False\n",
       "dtype: bool"
      ]
     },
     "execution_count": 5,
     "metadata": {},
     "output_type": "execute_result"
    }
   ],
   "source": [
    "%time data.isnull().any()"
   ]
  },
  {
   "cell_type": "markdown",
   "metadata": {
    "id": "z3Xe-5Fa_6up"
   },
   "source": [
    "# **Standardized the Input Variables**"
   ]
  },
  {
   "cell_type": "code",
   "execution_count": 6,
   "metadata": {
    "id": "HeHjcHCX9Xbx"
   },
   "outputs": [],
   "source": [
    "data.reset_index(drop=True, inplace=True)\n",
    "labels = data.pop('Class')"
   ]
  },
  {
   "cell_type": "code",
   "execution_count": 7,
   "metadata": {
    "id": "0ALZLF1tAYjA"
   },
   "outputs": [],
   "source": [
    "data -= data.mean()\n",
    "data /= data.std()"
   ]
  },
  {
   "cell_type": "code",
   "execution_count": 8,
   "metadata": {
    "colab": {
     "base_uri": "https://localhost:8080/",
     "height": 377
    },
    "id": "Ry-8pJmyDbeP",
    "outputId": "0b5b9186-0732-4f7a-830b-437670aa3660"
   },
   "outputs": [
    {
     "data": {
      "text/html": [
       "<div>\n",
       "<style scoped>\n",
       "    .dataframe tbody tr th:only-of-type {\n",
       "        vertical-align: middle;\n",
       "    }\n",
       "\n",
       "    .dataframe tbody tr th {\n",
       "        vertical-align: top;\n",
       "    }\n",
       "\n",
       "    .dataframe thead th {\n",
       "        text-align: right;\n",
       "    }\n",
       "</style>\n",
       "<table border=\"1\" class=\"dataframe\">\n",
       "  <thead>\n",
       "    <tr style=\"text-align: right;\">\n",
       "      <th></th>\n",
       "      <th>Time</th>\n",
       "      <th>V1</th>\n",
       "      <th>V2</th>\n",
       "      <th>V3</th>\n",
       "      <th>V4</th>\n",
       "      <th>V5</th>\n",
       "      <th>V6</th>\n",
       "      <th>V7</th>\n",
       "      <th>V8</th>\n",
       "      <th>V9</th>\n",
       "      <th>...</th>\n",
       "      <th>V20</th>\n",
       "      <th>V21</th>\n",
       "      <th>V22</th>\n",
       "      <th>V23</th>\n",
       "      <th>V24</th>\n",
       "      <th>V25</th>\n",
       "      <th>V26</th>\n",
       "      <th>V27</th>\n",
       "      <th>V28</th>\n",
       "      <th>Amount</th>\n",
       "    </tr>\n",
       "  </thead>\n",
       "  <tbody>\n",
       "    <tr>\n",
       "      <th>count</th>\n",
       "      <td>2.848070e+05</td>\n",
       "      <td>2.848070e+05</td>\n",
       "      <td>2.848070e+05</td>\n",
       "      <td>2.848070e+05</td>\n",
       "      <td>2.848070e+05</td>\n",
       "      <td>2.848070e+05</td>\n",
       "      <td>2.848070e+05</td>\n",
       "      <td>2.848070e+05</td>\n",
       "      <td>2.848070e+05</td>\n",
       "      <td>2.848070e+05</td>\n",
       "      <td>...</td>\n",
       "      <td>2.848070e+05</td>\n",
       "      <td>2.848070e+05</td>\n",
       "      <td>2.848070e+05</td>\n",
       "      <td>2.848070e+05</td>\n",
       "      <td>2.848070e+05</td>\n",
       "      <td>2.848070e+05</td>\n",
       "      <td>2.848070e+05</td>\n",
       "      <td>2.848070e+05</td>\n",
       "      <td>2.848070e+05</td>\n",
       "      <td>2.848070e+05</td>\n",
       "    </tr>\n",
       "    <tr>\n",
       "      <th>mean</th>\n",
       "      <td>-1.137547e-15</td>\n",
       "      <td>-2.369347e-15</td>\n",
       "      <td>-9.299088e-17</td>\n",
       "      <td>6.265771e-15</td>\n",
       "      <td>1.966167e-16</td>\n",
       "      <td>1.757901e-15</td>\n",
       "      <td>-2.227124e-16</td>\n",
       "      <td>1.663279e-15</td>\n",
       "      <td>2.504277e-16</td>\n",
       "      <td>1.113356e-15</td>\n",
       "      <td>...</td>\n",
       "      <td>6.157864e-16</td>\n",
       "      <td>1.850826e-17</td>\n",
       "      <td>-2.630385e-15</td>\n",
       "      <td>-7.445328e-16</td>\n",
       "      <td>7.621335e-17</td>\n",
       "      <td>-1.055018e-15</td>\n",
       "      <td>-1.504105e-16</td>\n",
       "      <td>2.448796e-17</td>\n",
       "      <td>-3.725646e-17</td>\n",
       "      <td>2.278134e-13</td>\n",
       "    </tr>\n",
       "    <tr>\n",
       "      <th>std</th>\n",
       "      <td>1.000000e+00</td>\n",
       "      <td>1.000000e+00</td>\n",
       "      <td>1.000000e+00</td>\n",
       "      <td>1.000000e+00</td>\n",
       "      <td>1.000000e+00</td>\n",
       "      <td>1.000000e+00</td>\n",
       "      <td>1.000000e+00</td>\n",
       "      <td>1.000000e+00</td>\n",
       "      <td>1.000000e+00</td>\n",
       "      <td>1.000000e+00</td>\n",
       "      <td>...</td>\n",
       "      <td>1.000000e+00</td>\n",
       "      <td>1.000000e+00</td>\n",
       "      <td>1.000000e+00</td>\n",
       "      <td>1.000000e+00</td>\n",
       "      <td>1.000000e+00</td>\n",
       "      <td>1.000000e+00</td>\n",
       "      <td>1.000000e+00</td>\n",
       "      <td>1.000000e+00</td>\n",
       "      <td>1.000000e+00</td>\n",
       "      <td>1.000000e+00</td>\n",
       "    </tr>\n",
       "    <tr>\n",
       "      <th>min</th>\n",
       "      <td>-1.996580e+00</td>\n",
       "      <td>-2.879850e+01</td>\n",
       "      <td>-4.403521e+01</td>\n",
       "      <td>-3.187168e+01</td>\n",
       "      <td>-4.013912e+00</td>\n",
       "      <td>-8.240795e+01</td>\n",
       "      <td>-1.963602e+01</td>\n",
       "      <td>-3.520933e+01</td>\n",
       "      <td>-6.130242e+01</td>\n",
       "      <td>-1.222799e+01</td>\n",
       "      <td>...</td>\n",
       "      <td>-7.069134e+01</td>\n",
       "      <td>-4.741898e+01</td>\n",
       "      <td>-1.506562e+01</td>\n",
       "      <td>-7.175434e+01</td>\n",
       "      <td>-4.683630e+00</td>\n",
       "      <td>-1.975030e+01</td>\n",
       "      <td>-5.401088e+00</td>\n",
       "      <td>-5.590650e+01</td>\n",
       "      <td>-4.674604e+01</td>\n",
       "      <td>-3.532288e-01</td>\n",
       "    </tr>\n",
       "    <tr>\n",
       "      <th>25%</th>\n",
       "      <td>-8.552105e-01</td>\n",
       "      <td>-4.698909e-01</td>\n",
       "      <td>-3.624701e-01</td>\n",
       "      <td>-5.872131e-01</td>\n",
       "      <td>-5.993777e-01</td>\n",
       "      <td>-5.010677e-01</td>\n",
       "      <td>-5.766811e-01</td>\n",
       "      <td>-4.478852e-01</td>\n",
       "      <td>-1.746801e-01</td>\n",
       "      <td>-5.853621e-01</td>\n",
       "      <td>...</td>\n",
       "      <td>-2.746329e-01</td>\n",
       "      <td>-3.109428e-01</td>\n",
       "      <td>-7.473463e-01</td>\n",
       "      <td>-2.591780e-01</td>\n",
       "      <td>-5.854666e-01</td>\n",
       "      <td>-6.083990e-01</td>\n",
       "      <td>-6.780705e-01</td>\n",
       "      <td>-1.755050e-01</td>\n",
       "      <td>-1.604437e-01</td>\n",
       "      <td>-3.308395e-01</td>\n",
       "    </tr>\n",
       "    <tr>\n",
       "      <th>50%</th>\n",
       "      <td>-2.131450e-01</td>\n",
       "      <td>9.245335e-03</td>\n",
       "      <td>3.965677e-02</td>\n",
       "      <td>1.186122e-01</td>\n",
       "      <td>-1.401721e-02</td>\n",
       "      <td>-3.936675e-02</td>\n",
       "      <td>-2.058043e-01</td>\n",
       "      <td>3.241718e-02</td>\n",
       "      <td>1.871979e-02</td>\n",
       "      <td>-4.681161e-02</td>\n",
       "      <td>...</td>\n",
       "      <td>-8.104691e-02</td>\n",
       "      <td>-4.009422e-02</td>\n",
       "      <td>9.345360e-03</td>\n",
       "      <td>-1.792417e-02</td>\n",
       "      <td>6.765666e-02</td>\n",
       "      <td>3.183234e-02</td>\n",
       "      <td>-1.081215e-01</td>\n",
       "      <td>3.325168e-03</td>\n",
       "      <td>3.406362e-02</td>\n",
       "      <td>-2.652710e-01</td>\n",
       "    </tr>\n",
       "    <tr>\n",
       "      <th>75%</th>\n",
       "      <td>9.372158e-01</td>\n",
       "      <td>6.716927e-01</td>\n",
       "      <td>4.867194e-01</td>\n",
       "      <td>6.774557e-01</td>\n",
       "      <td>5.250073e-01</td>\n",
       "      <td>4.433457e-01</td>\n",
       "      <td>2.991620e-01</td>\n",
       "      <td>4.611099e-01</td>\n",
       "      <td>2.740780e-01</td>\n",
       "      <td>5.435296e-01</td>\n",
       "      <td>...</td>\n",
       "      <td>1.725730e-01</td>\n",
       "      <td>2.537387e-01</td>\n",
       "      <td>7.283347e-01</td>\n",
       "      <td>2.364315e-01</td>\n",
       "      <td>7.257141e-01</td>\n",
       "      <td>6.727994e-01</td>\n",
       "      <td>4.996654e-01</td>\n",
       "      <td>2.255644e-01</td>\n",
       "      <td>2.371521e-01</td>\n",
       "      <td>-4.471699e-02</td>\n",
       "    </tr>\n",
       "    <tr>\n",
       "      <th>max</th>\n",
       "      <td>1.642055e+00</td>\n",
       "      <td>1.253349e+00</td>\n",
       "      <td>1.335773e+01</td>\n",
       "      <td>6.187982e+00</td>\n",
       "      <td>1.191872e+01</td>\n",
       "      <td>2.521409e+01</td>\n",
       "      <td>5.502005e+01</td>\n",
       "      <td>9.747807e+01</td>\n",
       "      <td>1.675150e+01</td>\n",
       "      <td>1.419492e+01</td>\n",
       "      <td>...</td>\n",
       "      <td>5.113455e+01</td>\n",
       "      <td>3.703465e+01</td>\n",
       "      <td>1.447302e+01</td>\n",
       "      <td>3.607661e+01</td>\n",
       "      <td>7.569671e+00</td>\n",
       "      <td>1.442529e+01</td>\n",
       "      <td>7.293962e+00</td>\n",
       "      <td>7.831926e+01</td>\n",
       "      <td>1.025432e+02</td>\n",
       "      <td>1.023621e+02</td>\n",
       "    </tr>\n",
       "  </tbody>\n",
       "</table>\n",
       "<p>8 rows × 30 columns</p>\n",
       "</div>"
      ],
      "text/plain": [
       "               Time            V1            V2            V3            V4  \\\n",
       "count  2.848070e+05  2.848070e+05  2.848070e+05  2.848070e+05  2.848070e+05   \n",
       "mean  -1.137547e-15 -2.369347e-15 -9.299088e-17  6.265771e-15  1.966167e-16   \n",
       "std    1.000000e+00  1.000000e+00  1.000000e+00  1.000000e+00  1.000000e+00   \n",
       "min   -1.996580e+00 -2.879850e+01 -4.403521e+01 -3.187168e+01 -4.013912e+00   \n",
       "25%   -8.552105e-01 -4.698909e-01 -3.624701e-01 -5.872131e-01 -5.993777e-01   \n",
       "50%   -2.131450e-01  9.245335e-03  3.965677e-02  1.186122e-01 -1.401721e-02   \n",
       "75%    9.372158e-01  6.716927e-01  4.867194e-01  6.774557e-01  5.250073e-01   \n",
       "max    1.642055e+00  1.253349e+00  1.335773e+01  6.187982e+00  1.191872e+01   \n",
       "\n",
       "                 V5            V6            V7            V8            V9  \\\n",
       "count  2.848070e+05  2.848070e+05  2.848070e+05  2.848070e+05  2.848070e+05   \n",
       "mean   1.757901e-15 -2.227124e-16  1.663279e-15  2.504277e-16  1.113356e-15   \n",
       "std    1.000000e+00  1.000000e+00  1.000000e+00  1.000000e+00  1.000000e+00   \n",
       "min   -8.240795e+01 -1.963602e+01 -3.520933e+01 -6.130242e+01 -1.222799e+01   \n",
       "25%   -5.010677e-01 -5.766811e-01 -4.478852e-01 -1.746801e-01 -5.853621e-01   \n",
       "50%   -3.936675e-02 -2.058043e-01  3.241718e-02  1.871979e-02 -4.681161e-02   \n",
       "75%    4.433457e-01  2.991620e-01  4.611099e-01  2.740780e-01  5.435296e-01   \n",
       "max    2.521409e+01  5.502005e+01  9.747807e+01  1.675150e+01  1.419492e+01   \n",
       "\n",
       "       ...           V20           V21           V22           V23  \\\n",
       "count  ...  2.848070e+05  2.848070e+05  2.848070e+05  2.848070e+05   \n",
       "mean   ...  6.157864e-16  1.850826e-17 -2.630385e-15 -7.445328e-16   \n",
       "std    ...  1.000000e+00  1.000000e+00  1.000000e+00  1.000000e+00   \n",
       "min    ... -7.069134e+01 -4.741898e+01 -1.506562e+01 -7.175434e+01   \n",
       "25%    ... -2.746329e-01 -3.109428e-01 -7.473463e-01 -2.591780e-01   \n",
       "50%    ... -8.104691e-02 -4.009422e-02  9.345360e-03 -1.792417e-02   \n",
       "75%    ...  1.725730e-01  2.537387e-01  7.283347e-01  2.364315e-01   \n",
       "max    ...  5.113455e+01  3.703465e+01  1.447302e+01  3.607661e+01   \n",
       "\n",
       "                V24           V25           V26           V27           V28  \\\n",
       "count  2.848070e+05  2.848070e+05  2.848070e+05  2.848070e+05  2.848070e+05   \n",
       "mean   7.621335e-17 -1.055018e-15 -1.504105e-16  2.448796e-17 -3.725646e-17   \n",
       "std    1.000000e+00  1.000000e+00  1.000000e+00  1.000000e+00  1.000000e+00   \n",
       "min   -4.683630e+00 -1.975030e+01 -5.401088e+00 -5.590650e+01 -4.674604e+01   \n",
       "25%   -5.854666e-01 -6.083990e-01 -6.780705e-01 -1.755050e-01 -1.604437e-01   \n",
       "50%    6.765666e-02  3.183234e-02 -1.081215e-01  3.325168e-03  3.406362e-02   \n",
       "75%    7.257141e-01  6.727994e-01  4.996654e-01  2.255644e-01  2.371521e-01   \n",
       "max    7.569671e+00  1.442529e+01  7.293962e+00  7.831926e+01  1.025432e+02   \n",
       "\n",
       "             Amount  \n",
       "count  2.848070e+05  \n",
       "mean   2.278134e-13  \n",
       "std    1.000000e+00  \n",
       "min   -3.532288e-01  \n",
       "25%   -3.308395e-01  \n",
       "50%   -2.652710e-01  \n",
       "75%   -4.471699e-02  \n",
       "max    1.023621e+02  \n",
       "\n",
       "[8 rows x 30 columns]"
      ]
     },
     "execution_count": 8,
     "metadata": {},
     "output_type": "execute_result"
    }
   ],
   "source": [
    "data.describe()"
   ]
  },
  {
   "cell_type": "markdown",
   "metadata": {
    "id": "Ai7j-PDlGnLC"
   },
   "source": [
    "**Split into 50% Training(Samples,Labels) , 30% Test(Samples,Labels) and 20% Validation Data(Samples,Labels).**"
   ]
  },
  {
   "cell_type": "code",
   "execution_count": 9,
   "metadata": {
    "id": "eSZjq_rmDfIy"
   },
   "outputs": [],
   "source": [
    "data_len = len(data)\n",
    "train_data = data.iloc[:data_len*50//100]\n",
    "val_data = data.iloc[data_len*50//100:data_len*70//100]\n",
    "test_data = data.iloc[data_len*70//100:]\n",
    "labels_len = len(labels)\n",
    "train_labels = labels.iloc[:labels_len*50//100]\n",
    "val_labels = labels.iloc[labels_len*50//100:labels_len*70//100]\n",
    "test_labels = labels.iloc[labels_len*70//100:]"
   ]
  },
  {
   "cell_type": "markdown",
   "metadata": {
    "id": "fHbTZIW2IEMk"
   },
   "source": [
    "**Model : input Layer (No. of features ), 3 hidden layers including 10,8,6 unit & Output Layer with activation function relu/tanh (check by experiment).**"
   ]
  },
  {
   "cell_type": "code",
   "execution_count": 10,
   "metadata": {
    "colab": {
     "base_uri": "https://localhost:8080/"
    },
    "id": "G1Uol4PIFJYR",
    "outputId": "6b3896de-0c64-42a9-e2ed-f56c9b8afdf9"
   },
   "outputs": [
    {
     "name": "stdout",
     "output_type": "stream",
     "text": [
      "Epoch 1/10\n",
      "557/557 [==============================] - 3s 3ms/step - loss: 0.2058 - acc: 0.9448 - val_loss: 1.1236 - val_acc: 0.6309\n",
      "Epoch 2/10\n",
      "557/557 [==============================] - 1s 1ms/step - loss: 0.0043 - acc: 0.9994 - val_loss: 1.3722 - val_acc: 0.6418\n",
      "Epoch 3/10\n",
      "557/557 [==============================] - 1s 1ms/step - loss: 0.0032 - acc: 0.9994 - val_loss: 1.5367 - val_acc: 0.6386\n",
      "Epoch 4/10\n",
      "557/557 [==============================] - 1s 2ms/step - loss: 0.0031 - acc: 0.9992 - val_loss: 1.3717 - val_acc: 0.6681\n",
      "Epoch 5/10\n",
      "557/557 [==============================] - 1s 1ms/step - loss: 0.0032 - acc: 0.9993 - val_loss: 1.1657 - val_acc: 0.7013\n",
      "Epoch 6/10\n",
      "557/557 [==============================] - 1s 1ms/step - loss: 0.0032 - acc: 0.9993 - val_loss: 1.1045 - val_acc: 0.7141\n",
      "Epoch 7/10\n",
      "557/557 [==============================] - 1s 1ms/step - loss: 0.0030 - acc: 0.9992 - val_loss: 1.1321 - val_acc: 0.7074\n",
      "Epoch 8/10\n",
      "557/557 [==============================] - 1s 1ms/step - loss: 0.0031 - acc: 0.9994 - val_loss: 1.0460 - val_acc: 0.7197\n",
      "Epoch 9/10\n",
      "557/557 [==============================] - 1s 1ms/step - loss: 0.0032 - acc: 0.9993 - val_loss: 0.9910 - val_acc: 0.7293\n",
      "Epoch 10/10\n",
      "557/557 [==============================] - 1s 1ms/step - loss: 0.0027 - acc: 0.9994 - val_loss: 0.9930 - val_acc: 0.7334\n",
      "Wall time: 10.1 s\n"
     ]
    }
   ],
   "source": [
    "from tensorflow.keras import models\n",
    "from tensorflow.keras import layers\n",
    "import tensorflow as tf\n",
    "network = models.Sequential()\n",
    "network.add(layers.Dense(10,activation=\"tanh\",input_shape=(len(train_data.columns),) ))\n",
    "network.add(layers.Dense(8,activation=\"tanh\",input_shape=(data.shape[1],) ))\n",
    "network.add(layers.Dense(6,activation=\"tanh\",input_shape=(data.shape[1],) ))\n",
    "network.add(layers.Dense(1,activation=\"sigmoid\"))\n",
    "network.compile(optimizer='rmsprop',loss='binary_crossentropy',metrics=['acc'])\n",
    "with tf.device('/device:GPU:1'):\n",
    "    %time MODEL = network.fit(train_data,train_labels,epochs=10,batch_size=256,validation_data=(val_data,val_labels))"
   ]
  },
  {
   "cell_type": "code",
   "execution_count": 11,
   "metadata": {
    "colab": {
     "base_uri": "https://localhost:8080/"
    },
    "id": "UG8oxKVxKMi8",
    "outputId": "107d4648-6b92-4aa6-c719-650d1cc2409d"
   },
   "outputs": [
    {
     "name": "stdout",
     "output_type": "stream",
     "text": [
      "2671/2671 [==============================] - 2s 702us/step - loss: 2.3939 - acc: 0.4519\n"
     ]
    }
   ],
   "source": [
    "test_loss , test_acc = network.evaluate(test_data,test_labels)"
   ]
  },
  {
   "cell_type": "code",
   "execution_count": 12,
   "metadata": {
    "colab": {
     "base_uri": "https://localhost:8080/"
    },
    "id": "TmosmJihKSlT",
    "outputId": "e8daec46-2aff-495f-9932-a012bbc3b07d"
   },
   "outputs": [
    {
     "data": {
      "text/plain": [
       "199896    1\n",
       "201098    1\n",
       "201601    1\n",
       "203324    1\n",
       "203328    1\n",
       "         ..\n",
       "279863    1\n",
       "280143    1\n",
       "280149    1\n",
       "281144    1\n",
       "281674    1\n",
       "Name: Class, Length: 108, dtype: int64"
      ]
     },
     "execution_count": 12,
     "metadata": {},
     "output_type": "execute_result"
    }
   ],
   "source": [
    "test_labels[test_labels == 1]\n"
   ]
  },
  {
   "cell_type": "code",
   "execution_count": 13,
   "metadata": {
    "colab": {
     "base_uri": "https://localhost:8080/",
     "height": 313
    },
    "id": "GKpgJUcsZym6",
    "outputId": "127df603-877c-428f-e28f-0bced33be20d"
   },
   "outputs": [
    {
     "data": {
      "text/plain": [
       "<matplotlib.legend.Legend at 0x235800396a0>"
      ]
     },
     "execution_count": 13,
     "metadata": {},
     "output_type": "execute_result"
    },
    {
     "data": {
      "image/png": "[encoded data removed]",
      "text/plain": [
       "<Figure size 432x288 with 1 Axes>"
      ]
     },
     "metadata": {
      "needs_background": "light"
     },
     "output_type": "display_data"
    }
   ],
   "source": [
    "history_dict = MODEL.history\n",
    "acc_values = history_dict['acc']\n",
    "val_acc_values = history_dict['val_acc']\n",
    "epoches = np.arange(1,len(history_dict['acc'])+1)\n",
    "plt.plot(epoches,acc_values,'bo',label=\"Training Accuracy\")\n",
    "plt.plot(epoches,val_acc_values,'b',label=\"Validation Accuracy\")\n",
    "plt.title('Training and validation Accuracy')\n",
    "plt.xlabel(\"Epoches\")\n",
    "plt.ylabel(\"Accuracy\")\n",
    "plt.legend()\n",
    "# plt.show()"
   ]
  },
  {
   "cell_type": "markdown",
   "metadata": {
    "id": "-k-7aD606f29"
   },
   "source": [
    "# **Doing With RELU**"
   ]
  },
  {
   "cell_type": "code",
   "execution_count": 14,
   "metadata": {
    "colab": {
     "base_uri": "https://localhost:8080/"
    },
    "id": "oGuUVIzAa4sx",
    "outputId": "bb163a25-49c7-4ae9-9718-9d03f016a3de"
   },
   "outputs": [
    {
     "name": "stdout",
     "output_type": "stream",
     "text": [
      "Epoch 1/10\n",
      "279/279 [==============================] - 2s 3ms/step - loss: 0.1159 - acc: 0.9936 - val_loss: 0.0119 - val_acc: 0.9991\n",
      "Epoch 2/10\n",
      "279/279 [==============================] - 1s 2ms/step - loss: 0.0043 - acc: 0.9991 - val_loss: 0.0088 - val_acc: 0.9992\n",
      "Epoch 3/10\n",
      "279/279 [==============================] - 1s 2ms/step - loss: 0.0034 - acc: 0.9992 - val_loss: 0.0094 - val_acc: 0.9993\n",
      "Epoch 4/10\n",
      "279/279 [==============================] - 1s 2ms/step - loss: 0.0034 - acc: 0.9993 - val_loss: 0.0123 - val_acc: 0.9991\n",
      "Epoch 5/10\n",
      "279/279 [==============================] - 1s 2ms/step - loss: 0.0029 - acc: 0.9994 - val_loss: 0.0152 - val_acc: 0.9983\n",
      "Epoch 6/10\n",
      "279/279 [==============================] - 1s 2ms/step - loss: 0.0027 - acc: 0.9994 - val_loss: 0.0127 - val_acc: 0.9984\n",
      "Epoch 7/10\n",
      "279/279 [==============================] - 1s 2ms/step - loss: 0.0028 - acc: 0.9993 - val_loss: 0.0115 - val_acc: 0.9983\n",
      "Epoch 8/10\n",
      "279/279 [==============================] - 1s 2ms/step - loss: 0.0023 - acc: 0.9995 - val_loss: 0.0120 - val_acc: 0.9982\n",
      "Epoch 9/10\n",
      "279/279 [==============================] - 1s 2ms/step - loss: 0.0025 - acc: 0.9995 - val_loss: 0.0154 - val_acc: 0.9972\n",
      "Epoch 10/10\n",
      "279/279 [==============================] - 1s 2ms/step - loss: 0.0027 - acc: 0.9993 - val_loss: 0.0160 - val_acc: 0.9971\n",
      "Wall time: 6.88 s\n"
     ]
    }
   ],
   "source": [
    "from tensorflow.keras import models\n",
    "from tensorflow.keras import layers\n",
    "import tensorflow as tf\n",
    "network1 = models.Sequential()\n",
    "network1.add(layers.Dense(30,activation=\"relu\",input_shape=(len(train_data.columns),) ))\n",
    "network1.add(layers.Dense(20,activation=\"relu\",input_shape=(data.shape[1],) ))\n",
    "network1.add(layers.Dense(10,activation=\"relu\",input_shape=(data.shape[1],) ))\n",
    "network1.add(layers.Dense(1,activation=\"sigmoid\"))\n",
    "network1.compile(optimizer='rmsprop',loss='binary_crossentropy',metrics=['acc'])\n",
    "with tf.device('/device:GPU:1'):\n",
    "    %time MODEL1 = network1.fit(train_data,train_labels,epochs=10,batch_size=512,validation_data=(val_data,val_labels))"
   ]
  },
  {
   "cell_type": "code",
   "execution_count": 15,
   "metadata": {
    "colab": {
     "base_uri": "https://localhost:8080/",
     "height": 295
    },
    "id": "nmZW8vyPb62f",
    "outputId": "5a816af4-b903-45d7-d9aa-43c2d3b1edf4"
   },
   "outputs": [
    {
     "data": {
      "image/png": "[encoded data removed]",
      "text/plain": [
       "<Figure size 432x288 with 1 Axes>"
      ]
     },
     "metadata": {
      "needs_background": "light"
     },
     "output_type": "display_data"
    }
   ],
   "source": [
    "history_dict = MODEL1.history\n",
    "acc_values = history_dict['acc']\n",
    "val_acc_values = history_dict['val_acc']\n",
    "epoches = np.arange(1,len(history_dict['acc'])+1)\n",
    "plt.plot(epoches,acc_values,'bo',label=\"Training Accuracy\")\n",
    "plt.plot(epoches,val_acc_values,'b',label=\"Validation Accuracy\")\n",
    "plt.title('Training and validation Accuracy')\n",
    "plt.xlabel(\"Epoches\")\n",
    "plt.ylabel(\"Accuracy\")\n",
    "plt.legend()\n",
    "plt.show()"
   ]
  },
  {
   "cell_type": "markdown",
   "metadata": {
    "id": "KW_po7htD_Tt"
   },
   "source": [
    "# **Evaluation Step**"
   ]
  },
  {
   "cell_type": "code",
   "execution_count": 16,
   "metadata": {
    "colab": {
     "base_uri": "https://localhost:8080/"
    },
    "id": "NNixGItObakm",
    "outputId": "b350021c-e3dc-4302-d679-ef9afb779ef4"
   },
   "outputs": [
    {
     "name": "stdout",
     "output_type": "stream",
     "text": [
      "2671/2671 [==============================] - 2s 706us/step - loss: 0.0214 - acc: 0.9961\n"
     ]
    }
   ],
   "source": [
    "test_loss , test_acc = network1.evaluate(test_data,test_labels)"
   ]
  },
  {
   "cell_type": "markdown",
   "metadata": {
    "id": "7bXsxUy_EHEW"
   },
   "source": [
    "# **Predict**"
   ]
  },
  {
   "cell_type": "code",
   "execution_count": 17,
   "metadata": {
    "colab": {
     "base_uri": "https://localhost:8080/"
    },
    "id": "bPYCV-tSELoC",
    "outputId": "916bb43c-2b45-458c-e2ac-0013ca6d61ec"
   },
   "outputs": [
    {
     "name": "stdout",
     "output_type": "stream",
     "text": [
      "85443 out of 85443 \n"
     ]
    }
   ],
   "source": [
    "prediction_test_data = test_data\n",
    "predictions = network1.predict(prediction_test_data)\n",
    "hit = np.argmax(predictions) == np.array(test_labels)\n",
    "print(f\"{len(hit)} out of {len(predictions)} \")"
   ]
  },
  {
   "cell_type": "code",
   "execution_count": 18,
   "metadata": {
    "colab": {
     "base_uri": "https://localhost:8080/"
    },
    "id": "mbrZUqY5Gfrp",
    "outputId": "285a6bae-1ab2-4dc9-a10d-9ae8d3276ff7"
   },
   "outputs": [
    {
     "name": "stdout",
     "output_type": "stream",
     "text": [
      "Alhamdullah Accuracy is upto 99.6149480342865%\n"
     ]
    }
   ],
   "source": [
    "print(f\"Alhamdullah Accuracy is upto {test_acc*100}%\")"
   ]
  },
  {
   "cell_type": "code",
   "execution_count": 17,
   "metadata": {
    "id": "w41dhQp7HTLv"
   },
   "outputs": [],
   "source": []
  },
  {
   "cell_type": "code",
   "execution_count": 17,
   "metadata": {
    "id": "TmUK8A7phsnG"
   },
   "outputs": [],
   "source": []
  }
 ],
 "metadata": {
  "accelerator": "GPU",
  "colab": {
   "collapsed_sections": [],
   "name": "Credit-Card-Fraud-Detection-Assignment3.ipynb",
   "provenance": []
  },
  "kernelspec": {
   "display_name": "Python 3",
   "language": "python",
   "name": "python3"
  },
  "language_info": {
   "codemirror_mode": {
    "name": "ipython",
    "version": 3
   },
   "file_extension": ".py",
   "mimetype": "text/x-python",
   "name": "python",
   "nbconvert_exporter": "python",
   "pygments_lexer": "ipython3",
   "version": "3.8.5"
  }
 },
 "nbformat": 4,
 "nbformat_minor": 1
}
