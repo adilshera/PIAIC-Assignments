{
 "cells": [
  {
   "cell_type": "code",
   "execution_count": 2,
   "metadata": {
    "id": "MHeMvFpkR-Oe"
   },
   "outputs": [],
   "source": [
    "import numpy as np\n",
    "import pandas as pd\n",
    "import tensorflow as tf\n",
    "from tensorflow.keras import models\n",
    "from tensorflow.keras import layers\n",
    "from tensorflow.keras.preprocessing.image import ImageDataGenerator\n",
    "from tensorflow.keras.models import Sequential\n",
    "from tensorflow.keras.layers import Dense, Flatten\n",
    "from tensorflow.keras.optimizers import RMSprop\n"
   ]
  },
  {
   "cell_type": "code",
   "execution_count": 5,
   "metadata": {
    "colab": {
     "base_uri": "https://localhost:8080/"
    },
    "id": "gu8R1NyOv9Gv",
    "outputId": "2012785e-c9d0-470f-8721-f3cd0e984991"
   },
   "outputs": [
    {
     "name": "stdout",
     "output_type": "stream",
     "text": [
      "Found 3028 images belonging to 5 classes.\n",
      "Found 1295 images belonging to 5 classes.\n"
     ]
    }
   ],
   "source": [
    "val_batch = 10\n",
    "train_batch = 32\n",
    "train_datagen = ImageDataGenerator(\n",
    "        rescale=1./255,\n",
    "        validation_split=0.30,\n",
    "        )\n",
    "train_generator = train_datagen.flow_from_directory(\n",
    "        './flowers',\n",
    "        target_size=(80, 80),\n",
    "        batch_size=train_batch,\n",
    "        class_mode='categorical',\n",
    "        subset = 'training',\n",
    "        color_mode = 'grayscale',\n",
    "        shuffle = True,\n",
    "        )\n",
    "validation_generator = train_datagen.flow_from_directory(\n",
    "        './flowers',\n",
    "        target_size=(80, 80),\n",
    "        batch_size=val_batch,\n",
    "        class_mode='categorical',\n",
    "        subset = 'validation',\n",
    "        color_mode = 'grayscale',\n",
    "        shuffle= True)\n"
   ]
  },
  {
   "cell_type": "code",
   "execution_count": 6,
   "metadata": {
    "colab": {
     "base_uri": "https://localhost:8080/"
    },
    "id": "RR13ZEf7-zus",
    "outputId": "2f6845c0-9df3-43ca-f72b-fda785cc3f7d"
   },
   "outputs": [
    {
     "data": {
      "text/plain": [
       "{'daisy': 0, 'dandelion': 1, 'rose': 2, 'sunflower': 3, 'tulip': 4}"
      ]
     },
     "execution_count": 6,
     "metadata": {},
     "output_type": "execute_result"
    }
   ],
   "source": [
    "train_generator.class_indices"
   ]
  },
  {
   "cell_type": "code",
   "execution_count": 7,
   "metadata": {
    "colab": {
     "base_uri": "https://localhost:8080/"
    },
    "id": "LqDb5wQt9NSe",
    "outputId": "018c928c-f59e-472d-91af-d1feceff2d3e"
   },
   "outputs": [
    {
     "data": {
      "text/plain": [
       "tensorflow.python.keras.preprocessing.image.ImageDataGenerator"
      ]
     },
     "execution_count": 7,
     "metadata": {},
     "output_type": "execute_result"
    }
   ],
   "source": [
    "type(train_datagen)"
   ]
  },
  {
   "cell_type": "code",
   "execution_count": 8,
   "metadata": {},
   "outputs": [
    {
     "data": {
      "text/plain": [
       "tensorflow.python.keras.preprocessing.image.DirectoryIterator"
      ]
     },
     "execution_count": 8,
     "metadata": {},
     "output_type": "execute_result"
    }
   ],
   "source": [
    "type(train_generator)"
   ]
  },
  {
   "cell_type": "code",
   "execution_count": 9,
   "metadata": {
    "colab": {
     "base_uri": "https://localhost:8080/"
    },
    "id": "I0JAwzvh9blZ",
    "outputId": "dfcf9483-63c5-4b2a-a8b1-f196f21ad185"
   },
   "outputs": [
    {
     "data": {
      "text/plain": [
       "(32, 5)"
      ]
     },
     "execution_count": 9,
     "metadata": {},
     "output_type": "execute_result"
    }
   ],
   "source": [
    "train_generator[31][1].shape"
   ]
  },
  {
   "cell_type": "code",
   "execution_count": 10,
   "metadata": {
    "id": "MECEactbpYY2"
   },
   "outputs": [],
   "source": [
    "from tensorflow.keras.models import Sequential\n",
    "from tensorflow.keras.layers import Dense, Dropout,Flatten\n",
    "model = Sequential()\n",
    "model.add(Flatten())\n",
    "model.add(Dense(10, activation='relu'))\n",
    "model.add(Dense(8, activation='relu'))\n",
    "model.add(Dense(5,  activation='softmax'))"
   ]
  },
  {
   "cell_type": "code",
   "execution_count": 11,
   "metadata": {
    "id": "2QFL7tA4D0Sa"
   },
   "outputs": [],
   "source": [
    "model.compile(optimizer='rmsprop',\n",
    "loss='categorical_crossentropy',\n",
    "metrics=['accuracy'])"
   ]
  },
  {
   "cell_type": "code",
   "execution_count": 12,
   "metadata": {
    "id": "kBJbtQp1fhfx"
   },
   "outputs": [],
   "source": [
    "# %tensorflow_version 2.x\n",
    "import tensorflow as tf"
   ]
  },
  {
   "cell_type": "code",
   "execution_count": 13,
   "metadata": {
    "colab": {
     "base_uri": "https://localhost:8080/"
    },
    "id": "mwG7_qctxUBl",
    "outputId": "a657cddc-ae3a-4e12-bd0e-8bf0f672af9e"
   },
   "outputs": [
    {
     "name": "stdout",
     "output_type": "stream",
     "text": [
      "Epoch 1/50\n",
      "20/20 [==============================] - 44s 2s/step - loss: 1.7562 - accuracy: 0.2174 - val_loss: 1.6469 - val_accuracy: 0.1900\n",
      "Epoch 2/50\n",
      "20/20 [==============================] - 14s 694ms/step - loss: 1.6138 - accuracy: 0.2449 - val_loss: 1.6072 - val_accuracy: 0.2440\n",
      "Epoch 3/50\n",
      "20/20 [==============================] - 12s 627ms/step - loss: 1.6189 - accuracy: 0.2436 - val_loss: 1.6061 - val_accuracy: 0.2425\n",
      "Epoch 4/50\n",
      "20/20 [==============================] - 9s 483ms/step - loss: 1.6071 - accuracy: 0.2007 - val_loss: 1.6055 - val_accuracy: 0.2425\n",
      "Epoch 5/50\n",
      "20/20 [==============================] - 9s 465ms/step - loss: 1.6040 - accuracy: 0.2488 - val_loss: 1.6049 - val_accuracy: 0.2425\n",
      "Epoch 6/50\n",
      "20/20 [==============================] - 8s 406ms/step - loss: 1.6056 - accuracy: 0.2205 - val_loss: 1.6044 - val_accuracy: 0.2425\n",
      "Epoch 7/50\n",
      "20/20 [==============================] - 7s 333ms/step - loss: 1.6061 - accuracy: 0.2177 - val_loss: 1.6043 - val_accuracy: 0.2425\n",
      "Epoch 8/50\n",
      "20/20 [==============================] - 6s 321ms/step - loss: 1.6011 - accuracy: 0.2587 - val_loss: 1.6036 - val_accuracy: 0.2425\n",
      "Epoch 9/50\n",
      "20/20 [==============================] - 5s 260ms/step - loss: 1.6019 - accuracy: 0.2552 - val_loss: 1.6029 - val_accuracy: 0.2425\n",
      "Epoch 10/50\n",
      "20/20 [==============================] - 4s 228ms/step - loss: 1.5979 - accuracy: 0.2283 - val_loss: 1.6021 - val_accuracy: 0.2425\n",
      "Epoch 11/50\n",
      "20/20 [==============================] - 4s 206ms/step - loss: 1.6018 - accuracy: 0.2552 - val_loss: 1.6016 - val_accuracy: 0.2425\n",
      "Epoch 12/50\n",
      "20/20 [==============================] - 4s 195ms/step - loss: 1.5963 - accuracy: 0.2554 - val_loss: 1.5992 - val_accuracy: 0.2440\n",
      "Epoch 13/50\n",
      "20/20 [==============================] - 4s 190ms/step - loss: 1.6089 - accuracy: 0.2072 - val_loss: 1.6015 - val_accuracy: 0.2409\n",
      "Epoch 14/50\n",
      "20/20 [==============================] - 4s 183ms/step - loss: 1.6049 - accuracy: 0.2137 - val_loss: 1.6009 - val_accuracy: 0.2425\n",
      "Epoch 15/50\n",
      "20/20 [==============================] - 4s 187ms/step - loss: 1.6026 - accuracy: 0.2496 - val_loss: 1.6004 - val_accuracy: 0.2432\n",
      "Epoch 16/50\n",
      "20/20 [==============================] - 3s 173ms/step - loss: 1.6005 - accuracy: 0.2417 - val_loss: 1.6002 - val_accuracy: 0.2425\n",
      "Epoch 17/50\n",
      "20/20 [==============================] - 4s 191ms/step - loss: 1.6010 - accuracy: 0.2255 - val_loss: 1.6003 - val_accuracy: 0.2448\n",
      "Epoch 18/50\n",
      "20/20 [==============================] - 3s 173ms/step - loss: 1.5915 - accuracy: 0.2721 - val_loss: 1.6034 - val_accuracy: 0.2448\n",
      "Epoch 19/50\n",
      "20/20 [==============================] - 3s 172ms/step - loss: 1.6085 - accuracy: 0.2265 - val_loss: 1.6004 - val_accuracy: 0.2409\n",
      "Epoch 20/50\n",
      "20/20 [==============================] - 3s 169ms/step - loss: 1.6012 - accuracy: 0.2150 - val_loss: 1.5985 - val_accuracy: 0.2456\n",
      "Epoch 21/50\n",
      "20/20 [==============================] - 3s 172ms/step - loss: 1.5995 - accuracy: 0.2280 - val_loss: 1.5958 - val_accuracy: 0.2456\n",
      "Epoch 22/50\n",
      "20/20 [==============================] - 3s 166ms/step - loss: 1.5908 - accuracy: 0.2404 - val_loss: 1.5951 - val_accuracy: 0.2463\n",
      "Epoch 23/50\n",
      "20/20 [==============================] - 3s 164ms/step - loss: 1.5836 - accuracy: 0.2550 - val_loss: 1.5992 - val_accuracy: 0.2432\n",
      "Epoch 24/50\n",
      "20/20 [==============================] - 3s 166ms/step - loss: 1.6009 - accuracy: 0.2198 - val_loss: 1.5971 - val_accuracy: 0.2448\n",
      "Epoch 25/50\n",
      "20/20 [==============================] - 3s 163ms/step - loss: 1.5925 - accuracy: 0.2359 - val_loss: 1.5991 - val_accuracy: 0.2425\n",
      "Epoch 26/50\n",
      "20/20 [==============================] - 3s 163ms/step - loss: 1.5820 - accuracy: 0.2532 - val_loss: 1.5998 - val_accuracy: 0.2425\n",
      "Epoch 27/50\n",
      "20/20 [==============================] - 3s 170ms/step - loss: 1.5876 - accuracy: 0.2399 - val_loss: 1.5997 - val_accuracy: 0.2425\n",
      "Epoch 28/50\n",
      "20/20 [==============================] - 3s 181ms/step - loss: 1.5944 - accuracy: 0.2549 - val_loss: 1.5948 - val_accuracy: 0.2456\n",
      "Epoch 29/50\n",
      "20/20 [==============================] - 3s 162ms/step - loss: 1.5919 - accuracy: 0.2729 - val_loss: 1.5941 - val_accuracy: 0.2456\n",
      "Epoch 30/50\n",
      "20/20 [==============================] - 3s 165ms/step - loss: 1.6065 - accuracy: 0.1908 - val_loss: 1.5984 - val_accuracy: 0.2417\n",
      "Epoch 31/50\n",
      "20/20 [==============================] - 3s 165ms/step - loss: 1.5847 - accuracy: 0.2373 - val_loss: 1.5932 - val_accuracy: 0.2479\n",
      "Epoch 32/50\n",
      "20/20 [==============================] - 3s 163ms/step - loss: 1.5924 - accuracy: 0.2322 - val_loss: 1.5907 - val_accuracy: 0.2463\n",
      "Epoch 33/50\n",
      "20/20 [==============================] - 3s 166ms/step - loss: 1.5806 - accuracy: 0.2179 - val_loss: 1.5937 - val_accuracy: 0.2425\n",
      "Epoch 34/50\n",
      "20/20 [==============================] - 3s 160ms/step - loss: 1.5914 - accuracy: 0.2049 - val_loss: 1.5911 - val_accuracy: 0.2456\n",
      "Epoch 35/50\n",
      "20/20 [==============================] - 3s 165ms/step - loss: 1.6044 - accuracy: 0.2017 - val_loss: 1.5945 - val_accuracy: 0.2432\n",
      "Epoch 36/50\n",
      "20/20 [==============================] - 3s 166ms/step - loss: 1.5746 - accuracy: 0.2564 - val_loss: 1.5919 - val_accuracy: 0.2440\n",
      "Epoch 37/50\n",
      "20/20 [==============================] - 3s 178ms/step - loss: 1.5984 - accuracy: 0.2455 - val_loss: 1.5918 - val_accuracy: 0.2340\n",
      "Epoch 38/50\n",
      "20/20 [==============================] - 3s 166ms/step - loss: 1.5717 - accuracy: 0.2564 - val_loss: 1.5748 - val_accuracy: 0.2448\n",
      "Epoch 39/50\n",
      "20/20 [==============================] - 3s 165ms/step - loss: 1.5945 - accuracy: 0.2180 - val_loss: 1.5746 - val_accuracy: 0.2479\n",
      "Epoch 40/50\n",
      "20/20 [==============================] - 3s 171ms/step - loss: 1.5752 - accuracy: 0.2536 - val_loss: 1.5757 - val_accuracy: 0.2471\n",
      "Epoch 41/50\n",
      "20/20 [==============================] - 3s 165ms/step - loss: 1.5851 - accuracy: 0.2291 - val_loss: 1.5734 - val_accuracy: 0.2471\n",
      "Epoch 42/50\n",
      "20/20 [==============================] - 3s 162ms/step - loss: 1.5522 - accuracy: 0.2712 - val_loss: 2.1011 - val_accuracy: 0.2008\n",
      "Epoch 43/50\n",
      "20/20 [==============================] - 3s 160ms/step - loss: 1.6705 - accuracy: 0.2314 - val_loss: 1.5664 - val_accuracy: 0.2718\n",
      "Epoch 44/50\n",
      "20/20 [==============================] - 3s 162ms/step - loss: 1.5508 - accuracy: 0.2880 - val_loss: 1.5528 - val_accuracy: 0.3073\n",
      "Epoch 45/50\n",
      "20/20 [==============================] - 3s 162ms/step - loss: 1.5736 - accuracy: 0.2774 - val_loss: 1.5692 - val_accuracy: 0.2649\n",
      "Epoch 46/50\n",
      "20/20 [==============================] - 3s 162ms/step - loss: 1.5808 - accuracy: 0.2585 - val_loss: 1.5630 - val_accuracy: 0.2772\n",
      "Epoch 47/50\n",
      "20/20 [==============================] - 3s 168ms/step - loss: 1.5632 - accuracy: 0.2612 - val_loss: 1.5612 - val_accuracy: 0.2803\n",
      "Epoch 48/50\n",
      "20/20 [==============================] - 3s 165ms/step - loss: 1.5597 - accuracy: 0.2783 - val_loss: 1.5577 - val_accuracy: 0.2842\n",
      "Epoch 49/50\n",
      "20/20 [==============================] - 3s 176ms/step - loss: 1.5437 - accuracy: 0.2661 - val_loss: 1.5704 - val_accuracy: 0.2680\n",
      "Epoch 50/50\n",
      "20/20 [==============================] - 4s 188ms/step - loss: 1.5696 - accuracy: 0.2628 - val_loss: 1.5478 - val_accuracy: 0.2934\n"
     ]
    }
   ],
   "source": [
    "with tf.device('/device:GPU:0'):\n",
    "    result = model.fit(\n",
    "          train_generator,\n",
    "          steps_per_epoch = 20,\n",
    "          batch_size = train_batch,\n",
    "          validation_data = validation_generator,\n",
    "          validation_batch_size= val_batch,\n",
    "          epochs=50)"
   ]
  },
  {
   "cell_type": "code",
   "execution_count": 14,
   "metadata": {
    "colab": {
     "base_uri": "https://localhost:8080/"
    },
    "id": "kAMVOUBUhcj9",
    "outputId": "db434bb6-e8e4-472f-bdc7-cb037b48335b"
   },
   "outputs": [
    {
     "name": "stdout",
     "output_type": "stream",
     "text": [
      "130/130 [==============================] - 3s 20ms/step - loss: 1.5478 - accuracy: 0.2934\n"
     ]
    },
    {
     "data": {
      "text/plain": [
       "[1.5478380918502808, 0.29343628883361816]"
      ]
     },
     "execution_count": 14,
     "metadata": {},
     "output_type": "execute_result"
    }
   ],
   "source": [
    "model.evaluate(validation_generator)"
   ]
  },
  {
   "cell_type": "code",
   "execution_count": 15,
   "metadata": {
    "colab": {
     "base_uri": "https://localhost:8080/"
    },
    "id": "Ufw4FqsmU-g2",
    "outputId": "8f3fdd61-6da5-452f-e187-73ff2c55f313"
   },
   "outputs": [
    {
     "data": {
      "text/plain": [
       "dict_keys(['loss', 'accuracy', 'val_loss', 'val_accuracy'])"
      ]
     },
     "execution_count": 15,
     "metadata": {},
     "output_type": "execute_result"
    }
   ],
   "source": [
    "x = result.history.keys()\n",
    "x"
   ]
  },
  {
   "cell_type": "code",
   "execution_count": 17,
   "metadata": {
    "colab": {
     "base_uri": "https://localhost:8080/",
     "height": 573
    },
    "id": "dOKPsS3HWwUn",
    "outputId": "2abfc7a2-821f-43a7-bf5b-7c88fd80c488"
   },
   "outputs": [
    {
     "data": {
      "image/png": "[encoded data removed]",
      "text/plain": [
       "<Figure size 432x288 with 1 Axes>"
      ]
     },
     "metadata": {
      "needs_background": "light"
     },
     "output_type": "display_data"
    },
    {
     "data": {
      "image/png": "[encoded data removed]",
      "text/plain": [
       "<Figure size 432x288 with 1 Axes>"
      ]
     },
     "metadata": {
      "needs_background": "light"
     },
     "output_type": "display_data"
    }
   ],
   "source": [
    "\n",
    "# Visualize training history\n",
    "from tensorflow.keras.models import Sequential\n",
    "from tensorflow.keras.layers import Dense\n",
    "import matplotlib.pyplot as plt\n",
    "import numpy\n",
    "plt.plot(result.history['accuracy'])\n",
    "plt.plot(result.history['val_accuracy'])\n",
    "plt.title('model accuracy')\n",
    "plt.ylabel('accuracy')\n",
    "plt.xlabel('epoch')\n",
    "plt.legend(['train', 'test'], loc='upper left')\n",
    "plt.show()\n",
    "# summarize history for loss\n",
    "plt.plot(result.history['loss'])\n",
    "plt.plot(result.history['val_loss'])\n",
    "plt.title('model loss')\n",
    "plt.ylabel('loss')\n",
    "plt.xlabel('epoch')\n",
    "plt.legend(['train', 'test'], loc='upper left')\n",
    "plt.show()"
   ]
  },
  {
   "cell_type": "code",
   "execution_count": 18,
   "metadata": {
    "id": "u7p4aMxliqvO"
   },
   "outputs": [],
   "source": [
    "y_pred1 = model.predict(validation_generator)"
   ]
  },
  {
   "cell_type": "code",
   "execution_count": 19,
   "metadata": {
    "colab": {
     "base_uri": "https://localhost:8080/"
    },
    "id": "-qhQ6JA_i0YM",
    "outputId": "9797b44c-ae92-4003-a7e8-93fb690710fa"
   },
   "outputs": [
    {
     "data": {
      "text/plain": [
       "(1295, 5)"
      ]
     },
     "execution_count": 19,
     "metadata": {},
     "output_type": "execute_result"
    }
   ],
   "source": [
    "y_pred1.shape"
   ]
  },
  {
   "cell_type": "code",
   "execution_count": 20,
   "metadata": {
    "id": "TRKNoHsBNvdR"
   },
   "outputs": [],
   "source": [
    "list1 = []\n",
    "for i in range(0,len(validation_generator)):\n",
    "    for j in range(0,val_batch):\n",
    "        try:\n",
    "              list1.append(validation_generator[i][1][j].tolist())\n",
    "        except:\n",
    "              break"
   ]
  },
  {
   "cell_type": "code",
   "execution_count": 21,
   "metadata": {
    "id": "P9u0xdNxfeHl"
   },
   "outputs": [
    {
     "data": {
      "text/plain": [
       "array([0, 4, 1, 4, 4, 4, 4, 4, 1, 4, 4, 4, 4, 4, 4, 4, 1, 4, 4, 1, 4, 1,\n",
       "       1, 4, 4, 4, 4, 4, 4, 4], dtype=int64)"
      ]
     },
     "execution_count": 21,
     "metadata": {},
     "output_type": "execute_result"
    }
   ],
   "source": [
    "np.argmax(y_pred1, axis=1)[0:30]"
   ]
  },
  {
   "cell_type": "code",
   "execution_count": 22,
   "metadata": {
    "id": "sVy31j9On2U_"
   },
   "outputs": [
    {
     "data": {
      "text/plain": [
       "array([1, 2, 2, 3, 4, 1, 1, 2, 3, 4, 3, 4, 4, 1, 0, 0, 0, 4, 0, 1, 4, 2,\n",
       "       0, 2, 4, 4, 0, 3, 2, 0], dtype=int64)"
      ]
     },
     "execution_count": 22,
     "metadata": {},
     "output_type": "execute_result"
    }
   ],
   "source": [
    "np.argmax(list1[0:30],axis=1)"
   ]
  },
  {
   "cell_type": "code",
   "execution_count": null,
   "metadata": {
    "id": "K-SgD9VNRfD-"
   },
   "outputs": [],
   "source": []
  },
  {
   "cell_type": "code",
   "execution_count": null,
   "metadata": {
    "id": "CvcUePAg9OoZ"
   },
   "outputs": [],
   "source": [
    "len(list1)"
   ]
  },
  {
   "cell_type": "code",
   "execution_count": 36,
   "metadata": {
    "colab": {
     "base_uri": "https://localhost:8080/",
     "height": 479
    },
    "id": "gq1gUHQh_rJ5",
    "outputId": "416c6b9d-99e5-4ec4-abf2-63f9b428f0fa"
   },
   "outputs": [
    {
     "ename": "TypeError",
     "evalue": "'ImageDataGenerator' object is not subscriptable",
     "output_type": "error",
     "traceback": [
      "\u001b[1;31m---------------------------------------------------------------------------\u001b[0m",
      "\u001b[1;31mTypeError\u001b[0m                                 Traceback (most recent call last)",
      "\u001b[1;32m<ipython-input-36-143d95e5e26d>\u001b[0m in \u001b[0;36m<module>\u001b[1;34m\u001b[0m\n\u001b[0;32m      1\u001b[0m \u001b[0mplt\u001b[0m\u001b[1;33m.\u001b[0m\u001b[0mfigure\u001b[0m\u001b[1;33m(\u001b[0m\u001b[0mfigsize\u001b[0m \u001b[1;33m=\u001b[0m \u001b[1;33m(\u001b[0m\u001b[1;36m20\u001b[0m\u001b[1;33m,\u001b[0m\u001b[1;36m20\u001b[0m\u001b[1;33m)\u001b[0m\u001b[1;33m)\u001b[0m\u001b[1;33m\u001b[0m\u001b[1;33m\u001b[0m\u001b[0m\n\u001b[0;32m      2\u001b[0m \u001b[1;32mfor\u001b[0m \u001b[0mi\u001b[0m \u001b[1;32min\u001b[0m \u001b[0mrange\u001b[0m\u001b[1;33m(\u001b[0m\u001b[1;36m10\u001b[0m\u001b[1;33m)\u001b[0m\u001b[1;33m:\u001b[0m\u001b[1;33m\u001b[0m\u001b[1;33m\u001b[0m\u001b[0m\n\u001b[1;32m----> 3\u001b[1;33m     \u001b[0mimg\u001b[0m \u001b[1;33m=\u001b[0m \u001b[0mtrain_datagen\u001b[0m\u001b[1;33m[\u001b[0m\u001b[1;36m600\u001b[0m\u001b[1;33m*\u001b[0m\u001b[0mi\u001b[0m\u001b[1;33m]\u001b[0m\u001b[1;33m[\u001b[0m\u001b[1;36m0\u001b[0m\u001b[1;33m]\u001b[0m\u001b[1;33m\u001b[0m\u001b[1;33m\u001b[0m\u001b[0m\n\u001b[0m\u001b[0;32m      4\u001b[0m     \u001b[0mplt\u001b[0m\u001b[1;33m.\u001b[0m\u001b[0msubplot\u001b[0m\u001b[1;33m(\u001b[0m\u001b[1;36m1\u001b[0m\u001b[1;33m,\u001b[0m\u001b[1;36m5\u001b[0m\u001b[1;33m,\u001b[0m\u001b[0mi\u001b[0m\u001b[1;33m+\u001b[0m\u001b[1;36m1\u001b[0m\u001b[1;33m)\u001b[0m\u001b[1;33m\u001b[0m\u001b[1;33m\u001b[0m\u001b[0m\n\u001b[0;32m      5\u001b[0m     \u001b[0mplt\u001b[0m\u001b[1;33m.\u001b[0m\u001b[0mimshow\u001b[0m\u001b[1;33m(\u001b[0m\u001b[0mimg\u001b[0m\u001b[1;33m)\u001b[0m\u001b[1;33m\u001b[0m\u001b[1;33m\u001b[0m\u001b[0m\n",
      "\u001b[1;31mTypeError\u001b[0m: 'ImageDataGenerator' object is not subscriptable"
     ]
    },
    {
     "data": {
      "text/plain": [
       "<Figure size 1440x1440 with 0 Axes>"
      ]
     },
     "metadata": {},
     "output_type": "display_data"
    }
   ],
   "source": [
    "plt.figure(figsize = (20,20))\n",
    "for i in range(10):\n",
    "    img = train_datagen[600*i][0]\n",
    "    plt.subplot(1,5,i+1)\n",
    "    plt.imshow(img)\n",
    "    plt.axis(\"off\")\n",
    "    plt.title(train_datagen[600*i][1])\n",
    "plt.show()"
   ]
  }
 ],
 "metadata": {
  "accelerator": "GPU",
  "colab": {
   "collapsed_sections": [],
   "name": "flowerclassification_28_march.ipynb",
   "provenance": []
  },
  "kernelspec": {
   "display_name": "Python 3",
   "language": "python",
   "name": "python3"
  },
  "language_info": {
   "codemirror_mode": {
    "name": "ipython",
    "version": 3
   },
   "file_extension": ".py",
   "mimetype": "text/x-python",
   "name": "python",
   "nbconvert_exporter": "python",
   "pygments_lexer": "ipython3",
   "version": "3.8.5"
  }
 },
 "nbformat": 4,
 "nbformat_minor": 1
}
